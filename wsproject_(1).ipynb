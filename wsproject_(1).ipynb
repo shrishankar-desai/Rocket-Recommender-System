{
  "cells": [
    {
      "cell_type": "markdown",
      "metadata": {
        "id": "view-in-github",
        "colab_type": "text"
      },
      "source": [
        "<a href=\"https://colab.research.google.com/github/shrishankar-desai/Rocket-Recommender-System/blob/main/wsproject_(1).ipynb\" target=\"_parent\"><img src=\"https://colab.research.google.com/assets/colab-badge.svg\" alt=\"Open In Colab\"/></a>"
      ]
    },
    {
      "cell_type": "markdown",
      "id": "e4e94bc8-28ed-4db4-a0ec-20c1403cfd90",
      "metadata": {
        "id": "e4e94bc8-28ed-4db4-a0ec-20c1403cfd90"
      },
      "source": [
        "# Rocket recommender system"
      ]
    },
    {
      "cell_type": "code",
      "execution_count": null,
      "id": "2c4f0685-f1b9-4620-ad5f-ce9099d1e873",
      "metadata": {
        "id": "2c4f0685-f1b9-4620-ad5f-ce9099d1e873",
        "outputId": "0e9dddcf-1f05-49a6-c633-64bde7d4461a"
      },
      "outputs": [
        {
          "data": {
            "text/html": [
              "<div>\n",
              "<style scoped>\n",
              "    .dataframe tbody tr th:only-of-type {\n",
              "        vertical-align: middle;\n",
              "    }\n",
              "\n",
              "    .dataframe tbody tr th {\n",
              "        vertical-align: top;\n",
              "    }\n",
              "\n",
              "    .dataframe thead th {\n",
              "        text-align: right;\n",
              "    }\n",
              "</style>\n",
              "<table border=\"1\" class=\"dataframe\">\n",
              "  <thead>\n",
              "    <tr style=\"text-align: right;\">\n",
              "      <th></th>\n",
              "      <th>timestamp</th>\n",
              "      <th>visitorid</th>\n",
              "      <th>event</th>\n",
              "      <th>itemid</th>\n",
              "      <th>transactionid</th>\n",
              "    </tr>\n",
              "  </thead>\n",
              "  <tbody>\n",
              "    <tr>\n",
              "      <th>0</th>\n",
              "      <td>1433221332117</td>\n",
              "      <td>257597</td>\n",
              "      <td>view</td>\n",
              "      <td>355908</td>\n",
              "      <td>NaN</td>\n",
              "    </tr>\n",
              "    <tr>\n",
              "      <th>1</th>\n",
              "      <td>1433224214164</td>\n",
              "      <td>992329</td>\n",
              "      <td>view</td>\n",
              "      <td>248676</td>\n",
              "      <td>NaN</td>\n",
              "    </tr>\n",
              "    <tr>\n",
              "      <th>2</th>\n",
              "      <td>1433221999827</td>\n",
              "      <td>111016</td>\n",
              "      <td>view</td>\n",
              "      <td>318965</td>\n",
              "      <td>NaN</td>\n",
              "    </tr>\n",
              "    <tr>\n",
              "      <th>3</th>\n",
              "      <td>1433221955914</td>\n",
              "      <td>483717</td>\n",
              "      <td>view</td>\n",
              "      <td>253185</td>\n",
              "      <td>NaN</td>\n",
              "    </tr>\n",
              "    <tr>\n",
              "      <th>4</th>\n",
              "      <td>1433221337106</td>\n",
              "      <td>951259</td>\n",
              "      <td>view</td>\n",
              "      <td>367447</td>\n",
              "      <td>NaN</td>\n",
              "    </tr>\n",
              "  </tbody>\n",
              "</table>\n",
              "</div>"
            ],
            "text/plain": [
              "       timestamp  visitorid event  itemid  transactionid\n",
              "0  1433221332117     257597  view  355908            NaN\n",
              "1  1433224214164     992329  view  248676            NaN\n",
              "2  1433221999827     111016  view  318965            NaN\n",
              "3  1433221955914     483717  view  253185            NaN\n",
              "4  1433221337106     951259  view  367447            NaN"
            ]
          },
          "execution_count": 1,
          "metadata": {},
          "output_type": "execute_result"
        }
      ],
      "source": [
        "import pandas as pd\n",
        "from datetime import datetime\n",
        "\n",
        "event= pd.read_csv('events.csv')\n",
        "event.head()"
      ]
    },
    {
      "cell_type": "code",
      "execution_count": null,
      "id": "6a7714fa-e10b-460c-bb35-73336a5c7103",
      "metadata": {
        "id": "6a7714fa-e10b-460c-bb35-73336a5c7103",
        "outputId": "24d7860a-c564-4d35-9dfe-bcd159691e8c"
      },
      "outputs": [
        {
          "data": {
            "text/html": [
              "<div>\n",
              "<style scoped>\n",
              "    .dataframe tbody tr th:only-of-type {\n",
              "        vertical-align: middle;\n",
              "    }\n",
              "\n",
              "    .dataframe tbody tr th {\n",
              "        vertical-align: top;\n",
              "    }\n",
              "\n",
              "    .dataframe thead th {\n",
              "        text-align: right;\n",
              "    }\n",
              "</style>\n",
              "<table border=\"1\" class=\"dataframe\">\n",
              "  <thead>\n",
              "    <tr style=\"text-align: right;\">\n",
              "      <th></th>\n",
              "      <th>timestamp</th>\n",
              "      <th>visitorid</th>\n",
              "      <th>event</th>\n",
              "      <th>itemid</th>\n",
              "      <th>transactionid</th>\n",
              "    </tr>\n",
              "  </thead>\n",
              "  <tbody>\n",
              "    <tr>\n",
              "      <th>0</th>\n",
              "      <td>2015-06-02 05:02:12.117</td>\n",
              "      <td>257597</td>\n",
              "      <td>view</td>\n",
              "      <td>355908</td>\n",
              "      <td>NaN</td>\n",
              "    </tr>\n",
              "    <tr>\n",
              "      <th>1</th>\n",
              "      <td>2015-06-02 05:50:14.164</td>\n",
              "      <td>992329</td>\n",
              "      <td>view</td>\n",
              "      <td>248676</td>\n",
              "      <td>NaN</td>\n",
              "    </tr>\n",
              "    <tr>\n",
              "      <th>2</th>\n",
              "      <td>2015-06-02 05:13:19.827</td>\n",
              "      <td>111016</td>\n",
              "      <td>view</td>\n",
              "      <td>318965</td>\n",
              "      <td>NaN</td>\n",
              "    </tr>\n",
              "    <tr>\n",
              "      <th>3</th>\n",
              "      <td>2015-06-02 05:12:35.914</td>\n",
              "      <td>483717</td>\n",
              "      <td>view</td>\n",
              "      <td>253185</td>\n",
              "      <td>NaN</td>\n",
              "    </tr>\n",
              "    <tr>\n",
              "      <th>4</th>\n",
              "      <td>2015-06-02 05:02:17.106</td>\n",
              "      <td>951259</td>\n",
              "      <td>view</td>\n",
              "      <td>367447</td>\n",
              "      <td>NaN</td>\n",
              "    </tr>\n",
              "  </tbody>\n",
              "</table>\n",
              "</div>"
            ],
            "text/plain": [
              "                timestamp  visitorid event  itemid  transactionid\n",
              "0 2015-06-02 05:02:12.117     257597  view  355908            NaN\n",
              "1 2015-06-02 05:50:14.164     992329  view  248676            NaN\n",
              "2 2015-06-02 05:13:19.827     111016  view  318965            NaN\n",
              "3 2015-06-02 05:12:35.914     483717  view  253185            NaN\n",
              "4 2015-06-02 05:02:17.106     951259  view  367447            NaN"
            ]
          },
          "execution_count": 2,
          "metadata": {},
          "output_type": "execute_result"
        }
      ],
      "source": [
        "event['timestamp'] = pd.to_datetime(event['timestamp'], unit='ms')\n",
        "event.head()"
      ]
    },
    {
      "cell_type": "markdown",
      "id": "42e3c2bb-c002-403e-bda4-2c227773f4ad",
      "metadata": {
        "id": "42e3c2bb-c002-403e-bda4-2c227773f4ad"
      },
      "source": [
        "### abnormal user"
      ]
    },
    {
      "cell_type": "code",
      "execution_count": null,
      "id": "cbd52b05-16cb-4879-9a9c-2830eb31854a",
      "metadata": {
        "id": "cbd52b05-16cb-4879-9a9c-2830eb31854a"
      },
      "outputs": [],
      "source": [
        "user_event_counts = event.groupby('visitorid').size().reset_index(name='event_count')\n",
        "transaction_counts = event[event['event'] == 'transaction'].groupby('visitorid').size().reset_index(name='transaction_count')"
      ]
    },
    {
      "cell_type": "code",
      "execution_count": null,
      "id": "48d7f480-6b03-49c3-b188-fc078aa0f956",
      "metadata": {
        "id": "48d7f480-6b03-49c3-b188-fc078aa0f956"
      },
      "outputs": [],
      "source": [
        "class abnormal_user:\n",
        "    def bulk_users(self, event_count, count):\n",
        "        freq=count.quantile(0.95)\n",
        "        heavy_user=event_count[count>freq]\n",
        "        return heavy_user\n",
        "\n",
        "    def transaction_user(self, t_counts, count_t):\n",
        "        t_freq= count_t.quantile(0.95)\n",
        "        heavy_transaction=t_counts[count_t>t_freq]\n",
        "        return heavy_transaction"
      ]
    },
    {
      "cell_type": "code",
      "execution_count": null,
      "id": "6c6c5bc7-877d-466e-96de-f6bce089c8ef",
      "metadata": {
        "id": "6c6c5bc7-877d-466e-96de-f6bce089c8ef"
      },
      "outputs": [],
      "source": [
        "ab_user=abnormal_user()\n",
        "abnormal_event=ab_user.bulk_users(user_event_counts, user_event_counts['event_count'])\n",
        "abnormal_transaction=ab_user.transaction_user(transaction_counts, transaction_counts['transaction_count'])"
      ]
    },
    {
      "cell_type": "code",
      "execution_count": null,
      "id": "d3528354-de41-4a27-bc70-0d7bf1e98f90",
      "metadata": {
        "id": "d3528354-de41-4a27-bc70-0d7bf1e98f90",
        "outputId": "d4d02112-1eb9-425d-c275-0c6dcd81b972"
      },
      "outputs": [
        {
          "data": {
            "text/plain": [
              "visitorid            58654\n",
              "event_count          58653\n",
              "transaction_count      377\n",
              "dtype: int64"
            ]
          },
          "execution_count": 6,
          "metadata": {},
          "output_type": "execute_result"
        }
      ],
      "source": [
        "abnormal_users=pd.merge(abnormal_event, abnormal_transaction, on='visitorid', how='outer')\n",
        "abnormal_users.count()"
      ]
    },
    {
      "cell_type": "code",
      "execution_count": null,
      "id": "fb38e288-6710-4d4c-90a5-dd4c47295f2e",
      "metadata": {
        "id": "fb38e288-6710-4d4c-90a5-dd4c47295f2e",
        "outputId": "a71f10aa-f198-4c83-8e77-5c7f706fff8e"
      },
      "outputs": [
        {
          "data": {
            "text/plain": [
              "<Axes: xlabel='event_count', ylabel='transaction_count'>"
            ]
          },
          "execution_count": 7,
          "metadata": {},
          "output_type": "execute_result"
        },
        {
          "data": {
            "image/png": "[encoded data removed]",
            "text/plain": [
              "<Figure size 640x480 with 1 Axes>"
            ]
          },
          "metadata": {},
          "output_type": "display_data"
        }
      ],
      "source": [
        "import seaborn as sns\n",
        "import matplotlib.pyplot as plt\n",
        "\n",
        "sns.scatterplot(x='event_count', y='transaction_count', data=abnormal_users)"
      ]
    },
    {
      "cell_type": "markdown",
      "id": "806d654e-4a11-4a0b-ac1d-2af0596e888c",
      "metadata": {
        "id": "806d654e-4a11-4a0b-ac1d-2af0596e888c"
      },
      "source": [
        "### EDA of Dataset"
      ]
    },
    {
      "cell_type": "markdown",
      "id": "3ac0bdf5-2b9e-4767-91af-8cf5dbcffaff",
      "metadata": {
        "id": "3ac0bdf5-2b9e-4767-91af-8cf5dbcffaff"
      },
      "source": [
        "#### product analysis"
      ]
    },
    {
      "cell_type": "code",
      "execution_count": null,
      "id": "23e374df-6563-429a-95af-1c46a8c378a1",
      "metadata": {
        "id": "23e374df-6563-429a-95af-1c46a8c378a1"
      },
      "outputs": [],
      "source": [
        "item1=pd.read_csv('item_properties_part1.csv')\n",
        "item2=pd.read_csv('item_properties_part1.csv')"
      ]
    },
    {
      "cell_type": "code",
      "execution_count": null,
      "id": "14e40650-8fc8-410d-bae1-5678bc81957b",
      "metadata": {
        "id": "14e40650-8fc8-410d-bae1-5678bc81957b",
        "outputId": "0b234124-ab70-418a-fb99-9713ae5bb886"
      },
      "outputs": [
        {
          "data": {
            "text/html": [
              "<div>\n",
              "<style scoped>\n",
              "    .dataframe tbody tr th:only-of-type {\n",
              "        vertical-align: middle;\n",
              "    }\n",
              "\n",
              "    .dataframe tbody tr th {\n",
              "        vertical-align: top;\n",
              "    }\n",
              "\n",
              "    .dataframe thead th {\n",
              "        text-align: right;\n",
              "    }\n",
              "</style>\n",
              "<table border=\"1\" class=\"dataframe\">\n",
              "  <thead>\n",
              "    <tr style=\"text-align: right;\">\n",
              "      <th></th>\n",
              "      <th>timestamp</th>\n",
              "      <th>itemid</th>\n",
              "      <th>property</th>\n",
              "      <th>value</th>\n",
              "    </tr>\n",
              "  </thead>\n",
              "  <tbody>\n",
              "    <tr>\n",
              "      <th>0</th>\n",
              "      <td>2015-06-02 05:02:12.117</td>\n",
              "      <td>460429</td>\n",
              "      <td>categoryid</td>\n",
              "      <td>1338</td>\n",
              "    </tr>\n",
              "    <tr>\n",
              "      <th>5</th>\n",
              "      <td>2015-06-02 05:48:06.234</td>\n",
              "      <td>285026</td>\n",
              "      <td>available</td>\n",
              "      <td>0</td>\n",
              "    </tr>\n",
              "    <tr>\n",
              "      <th>15</th>\n",
              "      <td>2015-06-02 05:22:11.378</td>\n",
              "      <td>186518</td>\n",
              "      <td>available</td>\n",
              "      <td>0</td>\n",
              "    </tr>\n",
              "    <tr>\n",
              "      <th>79</th>\n",
              "      <td>2015-06-02 05:49:05.724</td>\n",
              "      <td>423682</td>\n",
              "      <td>available</td>\n",
              "      <td>0</td>\n",
              "    </tr>\n",
              "    <tr>\n",
              "      <th>82</th>\n",
              "      <td>2015-06-02 05:44:22.777</td>\n",
              "      <td>316253</td>\n",
              "      <td>available</td>\n",
              "      <td>1</td>\n",
              "    </tr>\n",
              "  </tbody>\n",
              "</table>\n",
              "</div>"
            ],
            "text/plain": [
              "                 timestamp  itemid    property value\n",
              "0  2015-06-02 05:02:12.117  460429  categoryid  1338\n",
              "5  2015-06-02 05:48:06.234  285026   available     0\n",
              "15 2015-06-02 05:22:11.378  186518   available     0\n",
              "79 2015-06-02 05:49:05.724  423682   available     0\n",
              "82 2015-06-02 05:44:22.777  316253   available     1"
            ]
          },
          "execution_count": 9,
          "metadata": {},
          "output_type": "execute_result"
        }
      ],
      "source": [
        "items = pd.concat([item1, item2], axis=0)\n",
        "items['timestamp'] = pd.to_datetime(event['timestamp'], unit='ms')\n",
        "items = items.loc[items.property.isin(['categoryid', 'available']), :]\n",
        "items.head()"
      ]
    },
    {
      "cell_type": "code",
      "execution_count": null,
      "id": "69d448f1-4633-4f29-8de2-97e75fea948c",
      "metadata": {
        "id": "69d448f1-4633-4f29-8de2-97e75fea948c",
        "outputId": "d69586b3-299e-45a4-99a3-8858a04164c3"
      },
      "outputs": [
        {
          "data": {
            "text/plain": [
              "event\n",
              "addtocart      [5206, 10572, 255275, 356475, 312728, 63312, 1...\n",
              "transaction    [356475, 15335, 81345, 150318, 310791, 54058, ...\n",
              "view           [355908, 248676, 318965, 253185, 367447, 22556...\n",
              "Name: itemid, dtype: object"
            ]
          },
          "execution_count": 10,
          "metadata": {},
          "output_type": "execute_result"
        }
      ],
      "source": [
        "grouped = event.groupby('event')['itemid'].apply(list)\n",
        "grouped"
      ]
    },
    {
      "cell_type": "code",
      "execution_count": null,
      "id": "b794743f-0342-43bf-8c17-f2f420384993",
      "metadata": {
        "id": "b794743f-0342-43bf-8c17-f2f420384993"
      },
      "outputs": [],
      "source": [
        "import numpy as np\n",
        "import operator\n",
        "def product_analysis(grouped_data):\n",
        "    count={}\n",
        "    grouped_array=np.array(grouped_data[:])\n",
        "    unique, counts = np.unique(grouped_array, return_counts=True)\n",
        "    count = dict(zip(unique, counts))\n",
        "    sort_count=sorted(count.items(), key = operator.itemgetter(1), reverse = True)\n",
        "    x = [i[0] for i in sort_count[:7]]\n",
        "    y = [i[1] for i in sort_count[:7]]\n",
        "    data_plot=sns.barplot(x=x, y=y, order=x, palette=\"pastel\")\n",
        "    return data_plot;"
      ]
    },
    {
      "cell_type": "code",
      "execution_count": null,
      "id": "9132ae2c-28fb-40d9-a5aa-2d9f1a5d0368",
      "metadata": {
        "id": "9132ae2c-28fb-40d9-a5aa-2d9f1a5d0368",
        "outputId": "d37a1c56-2de1-4e2e-a0e2-67dc25aa3f36"
      },
      "outputs": [
        {
          "name": "stderr",
          "output_type": "stream",
          "text": [
            "C:\\Users\\shank\\AppData\\Local\\Temp\\ipykernel_14800\\851182760.py:11: FutureWarning: \n",
            "\n",
            "Passing `palette` without assigning `hue` is deprecated and will be removed in v0.14.0. Assign the `x` variable to `hue` and set `legend=False` for the same effect.\n",
            "\n",
            "  data_plot=sns.barplot(x=x, y=y, order=x, palette=\"pastel\")\n"
          ]
        },
        {
          "data": {
            "text/plain": [
              "Text(0, 0.5, 'VISITORS')"
            ]
          },
          "execution_count": 12,
          "metadata": {},
          "output_type": "execute_result"
        },
        {
          "data": {
            "image/png": "[encoded data removed]",
            "text/plain": [
              "<Figure size 640x480 with 1 Axes>"
            ]
          },
          "metadata": {},
          "output_type": "display_data"
        }
      ],
      "source": [
        "add_cart=product_analysis(grouped['addtocart'])\n",
        "add_cart.set_title(\"most ADDTOCART items\")\n",
        "add_cart.set_xlabel(\"Product ID\")\n",
        "add_cart.set_ylabel(\"VISITORS\")"
      ]
    },
    {
      "cell_type": "code",
      "execution_count": null,
      "id": "f9d70476-5db6-4ed5-8ad9-7e5a75f74098",
      "metadata": {
        "id": "f9d70476-5db6-4ed5-8ad9-7e5a75f74098",
        "outputId": "dd38057e-0759-48b2-94cb-3d068fa9354b"
      },
      "outputs": [
        {
          "name": "stderr",
          "output_type": "stream",
          "text": [
            "C:\\Users\\shank\\AppData\\Local\\Temp\\ipykernel_14800\\851182760.py:11: FutureWarning: \n",
            "\n",
            "Passing `palette` without assigning `hue` is deprecated and will be removed in v0.14.0. Assign the `x` variable to `hue` and set `legend=False` for the same effect.\n",
            "\n",
            "  data_plot=sns.barplot(x=x, y=y, order=x, palette=\"pastel\")\n"
          ]
        },
        {
          "data": {
            "text/plain": [
              "Text(0, 0.5, 'VISITORS')"
            ]
          },
          "execution_count": 13,
          "metadata": {},
          "output_type": "execute_result"
        },
        {
          "data": {
            "image/png": "[encoded data removed]",
            "text/plain": [
              "<Figure size 640x480 with 1 Axes>"
            ]
          },
          "metadata": {},
          "output_type": "display_data"
        }
      ],
      "source": [
        "viewed_item=product_analysis(grouped['view'])\n",
        "viewed_item.set_title(\"most VIEWED items\")\n",
        "viewed_item.set_xlabel(\"Product ID\")\n",
        "viewed_item.set_ylabel(\"VISITORS\")"
      ]
    },
    {
      "cell_type": "code",
      "execution_count": null,
      "id": "b3b0c501-3541-4d0a-bc8e-e18fc26b85b4",
      "metadata": {
        "id": "b3b0c501-3541-4d0a-bc8e-e18fc26b85b4",
        "outputId": "91773377-40c8-41b0-fdec-c2ed967847a3"
      },
      "outputs": [
        {
          "name": "stderr",
          "output_type": "stream",
          "text": [
            "C:\\Users\\shank\\AppData\\Local\\Temp\\ipykernel_14800\\851182760.py:11: FutureWarning: \n",
            "\n",
            "Passing `palette` without assigning `hue` is deprecated and will be removed in v0.14.0. Assign the `x` variable to `hue` and set `legend=False` for the same effect.\n",
            "\n",
            "  data_plot=sns.barplot(x=x, y=y, order=x, palette=\"pastel\")\n"
          ]
        },
        {
          "data": {
            "text/plain": [
              "Text(0, 0.5, 'VISITORS')"
            ]
          },
          "execution_count": 14,
          "metadata": {},
          "output_type": "execute_result"
        },
        {
          "data": {
            "image/png": "[encoded data removed]",
            "text/plain": [
              "<Figure size 640x480 with 1 Axes>"
            ]
          },
          "metadata": {},
          "output_type": "display_data"
        }
      ],
      "source": [
        "trans=product_analysis(grouped['transaction'])\n",
        "trans.set_title(\"most TRANSACTION items\")\n",
        "trans.set_xlabel(\"Product ID\")\n",
        "trans.set_ylabel(\"VISITORS\")"
      ]
    },
    {
      "cell_type": "markdown",
      "id": "858c9984-e834-4bc9-bf15-333910971843",
      "metadata": {
        "id": "858c9984-e834-4bc9-bf15-333910971843"
      },
      "source": [
        "#### customer analysis"
      ]
    },
    {
      "cell_type": "code",
      "execution_count": null,
      "id": "8235797c-98ff-46d0-9312-0f1e5cc40514",
      "metadata": {
        "id": "8235797c-98ff-46d0-9312-0f1e5cc40514",
        "outputId": "e59c6e2c-6727-4899-9d17-5ca061385083"
      },
      "outputs": [
        {
          "name": "stdout",
          "output_type": "stream",
          "text": [
            "Unique visitors: 1407580\n",
            "Total visitors: 2756101\n"
          ]
        }
      ],
      "source": [
        "all_customers = event['visitorid'].unique()\n",
        "print(\"Unique visitors:\", all_customers.size)\n",
        "print('Total visitors:', event['visitorid'].size)"
      ]
    },
    {
      "cell_type": "markdown",
      "id": "334c147c-f748-4101-8f18-4fc8c0b0ad20",
      "metadata": {
        "id": "334c147c-f748-4101-8f18-4fc8c0b0ad20"
      },
      "source": [
        "##### customers who bought something"
      ]
    },
    {
      "cell_type": "code",
      "execution_count": null,
      "id": "df3de3ae-dd68-44eb-8d0f-3c1aefde1d65",
      "metadata": {
        "id": "df3de3ae-dd68-44eb-8d0f-3c1aefde1d65",
        "outputId": "d8a0ecba-0c09-442c-b2bf-87a62db623c0"
      },
      "outputs": [
        {
          "data": {
            "text/plain": [
              "11719"
            ]
          },
          "execution_count": 16,
          "metadata": {},
          "output_type": "execute_result"
        }
      ],
      "source": [
        "customer_purchased = event[event.transactionid.notnull()].visitorid.unique()\n",
        "customer_purchased.size"
      ]
    },
    {
      "cell_type": "markdown",
      "id": "95ccb0a6-c5b3-450a-a733-ac2f2b740c3c",
      "metadata": {
        "id": "95ccb0a6-c5b3-450a-a733-ac2f2b740c3c"
      },
      "source": [
        "##### visitors who didn't buy anything"
      ]
    },
    {
      "cell_type": "code",
      "execution_count": null,
      "id": "2558e058-47c8-4c53-a80f-b8b3156ead83",
      "metadata": {
        "id": "2558e058-47c8-4c53-a80f-b8b3156ead83",
        "outputId": "741986d1-beb2-4f1b-d7d3-a05b3caa8b5b"
      },
      "outputs": [
        {
          "data": {
            "text/plain": [
              "1395861"
            ]
          },
          "execution_count": 17,
          "metadata": {},
          "output_type": "execute_result"
        }
      ],
      "source": [
        "customer_browsed = [x for x in all_customers if x not in customer_purchased]\n",
        "len(customer_browsed)"
      ]
    },
    {
      "cell_type": "code",
      "execution_count": null,
      "id": "531e90e9-78bf-46f4-8b24-9058361612c5",
      "metadata": {
        "id": "531e90e9-78bf-46f4-8b24-9058361612c5",
        "outputId": "71dd40f7-fab8-4b6f-d4c3-0d167d074a02"
      },
      "outputs": [
        {
          "data": {
            "text/plain": [
              "11719"
            ]
          },
          "execution_count": 18,
          "metadata": {},
          "output_type": "execute_result"
        }
      ],
      "source": [
        "customer_purchased = event[event.transactionid.notnull()].visitorid.unique()\n",
        "customer_purchased.size"
      ]
    },
    {
      "cell_type": "code",
      "execution_count": null,
      "id": "d7395136-e741-4053-812c-955b765d189d",
      "metadata": {
        "id": "d7395136-e741-4053-812c-955b765d189d",
        "outputId": "d7631bbf-cc02-4174-80af-c30b76dc1d21"
      },
      "outputs": [
        {
          "data": {
            "text/html": [
              "<div>\n",
              "<style scoped>\n",
              "    .dataframe tbody tr th:only-of-type {\n",
              "        vertical-align: middle;\n",
              "    }\n",
              "\n",
              "    .dataframe tbody tr th {\n",
              "        vertical-align: top;\n",
              "    }\n",
              "\n",
              "    .dataframe thead th {\n",
              "        text-align: right;\n",
              "    }\n",
              "</style>\n",
              "<table border=\"1\" class=\"dataframe\">\n",
              "  <thead>\n",
              "    <tr style=\"text-align: right;\">\n",
              "      <th></th>\n",
              "      <th>timestamp</th>\n",
              "      <th>visitorid</th>\n",
              "      <th>event</th>\n",
              "      <th>itemid</th>\n",
              "      <th>transactionid</th>\n",
              "      <th>categoryid</th>\n",
              "      <th>parentid</th>\n",
              "    </tr>\n",
              "  </thead>\n",
              "  <tbody>\n",
              "    <tr>\n",
              "      <th>0</th>\n",
              "      <td>2015-06-02 05:02:12.117</td>\n",
              "      <td>257597</td>\n",
              "      <td>view</td>\n",
              "      <td>355908</td>\n",
              "      <td>NaN</td>\n",
              "      <td>1173</td>\n",
              "      <td>805.0</td>\n",
              "    </tr>\n",
              "    <tr>\n",
              "      <th>1</th>\n",
              "      <td>2015-06-02 05:50:14.164</td>\n",
              "      <td>992329</td>\n",
              "      <td>view</td>\n",
              "      <td>248676</td>\n",
              "      <td>NaN</td>\n",
              "      <td>1231</td>\n",
              "      <td>901.0</td>\n",
              "    </tr>\n",
              "    <tr>\n",
              "      <th>2</th>\n",
              "      <td>2015-06-02 05:12:35.914</td>\n",
              "      <td>483717</td>\n",
              "      <td>view</td>\n",
              "      <td>253185</td>\n",
              "      <td>NaN</td>\n",
              "      <td>914</td>\n",
              "      <td>226.0</td>\n",
              "    </tr>\n",
              "    <tr>\n",
              "      <th>3</th>\n",
              "      <td>2015-06-02 05:02:17.106</td>\n",
              "      <td>951259</td>\n",
              "      <td>view</td>\n",
              "      <td>367447</td>\n",
              "      <td>NaN</td>\n",
              "      <td>1613</td>\n",
              "      <td>250.0</td>\n",
              "    </tr>\n",
              "    <tr>\n",
              "      <th>4</th>\n",
              "      <td>2015-06-02 05:02:17.106</td>\n",
              "      <td>951259</td>\n",
              "      <td>view</td>\n",
              "      <td>367447</td>\n",
              "      <td>NaN</td>\n",
              "      <td>491</td>\n",
              "      <td>679.0</td>\n",
              "    </tr>\n",
              "  </tbody>\n",
              "</table>\n",
              "</div>"
            ],
            "text/plain": [
              "                 timestamp  visitorid event  itemid  transactionid  \\\n",
              "0  2015-06-02 05:02:12.117     257597  view  355908            NaN   \n",
              "1  2015-06-02 05:50:14.164     992329  view  248676            NaN   \n",
              "2  2015-06-02 05:12:35.914     483717  view  253185            NaN   \n",
              "3  2015-06-02 05:02:17.106     951259  view  367447            NaN   \n",
              "4  2015-06-02 05:02:17.106     951259  view  367447            NaN   \n",
              "\n",
              "   categoryid  parentid  \n",
              "0        1173     805.0  \n",
              "1        1231     901.0  \n",
              "2         914     226.0  \n",
              "3        1613     250.0  \n",
              "4         491     679.0  "
            ]
          },
          "execution_count": 19,
          "metadata": {},
          "output_type": "execute_result"
        }
      ],
      "source": [
        "import pandas as pd\n",
        "data=pd.read_csv('merged_data1.csv')\n",
        "data.head()"
      ]
    },
    {
      "cell_type": "code",
      "execution_count": null,
      "id": "986befba-f6a8-4215-a398-9a5bed0831ef",
      "metadata": {
        "id": "986befba-f6a8-4215-a398-9a5bed0831ef",
        "outputId": "0032b0f5-48cf-491a-d283-35234446557b"
      },
      "outputs": [
        {
          "data": {
            "text/html": [
              "<div>\n",
              "<style scoped>\n",
              "    .dataframe tbody tr th:only-of-type {\n",
              "        vertical-align: middle;\n",
              "    }\n",
              "\n",
              "    .dataframe tbody tr th {\n",
              "        vertical-align: top;\n",
              "    }\n",
              "\n",
              "    .dataframe thead th {\n",
              "        text-align: right;\n",
              "    }\n",
              "</style>\n",
              "<table border=\"1\" class=\"dataframe\">\n",
              "  <thead>\n",
              "    <tr style=\"text-align: right;\">\n",
              "      <th></th>\n",
              "      <th>timestamp</th>\n",
              "      <th>visitorid</th>\n",
              "      <th>event</th>\n",
              "      <th>itemid</th>\n",
              "      <th>transactionid</th>\n",
              "      <th>categoryid</th>\n",
              "      <th>parentid</th>\n",
              "    </tr>\n",
              "  </thead>\n",
              "  <tbody>\n",
              "    <tr>\n",
              "      <th>1338798</th>\n",
              "      <td>2015-09-11 20:55:17.175</td>\n",
              "      <td>0</td>\n",
              "      <td>view</td>\n",
              "      <td>67045</td>\n",
              "      <td>NaN</td>\n",
              "      <td>333</td>\n",
              "      <td>1497.0</td>\n",
              "    </tr>\n",
              "    <tr>\n",
              "      <th>1333375</th>\n",
              "      <td>2015-09-11 20:49:49.439</td>\n",
              "      <td>0</td>\n",
              "      <td>view</td>\n",
              "      <td>285930</td>\n",
              "      <td>NaN</td>\n",
              "      <td>1188</td>\n",
              "      <td>1497.0</td>\n",
              "    </tr>\n",
              "    <tr>\n",
              "      <th>1338670</th>\n",
              "      <td>2015-09-11 20:52:39.591</td>\n",
              "      <td>0</td>\n",
              "      <td>view</td>\n",
              "      <td>357564</td>\n",
              "      <td>NaN</td>\n",
              "      <td>256</td>\n",
              "      <td>1257.0</td>\n",
              "    </tr>\n",
              "    <tr>\n",
              "      <th>817585</th>\n",
              "      <td>2015-08-13 17:46:06.444</td>\n",
              "      <td>1</td>\n",
              "      <td>view</td>\n",
              "      <td>72028</td>\n",
              "      <td>NaN</td>\n",
              "      <td>1192</td>\n",
              "      <td>955.0</td>\n",
              "    </tr>\n",
              "    <tr>\n",
              "      <th>717304</th>\n",
              "      <td>2015-08-07 18:01:08.920</td>\n",
              "      <td>2</td>\n",
              "      <td>view</td>\n",
              "      <td>216305</td>\n",
              "      <td>NaN</td>\n",
              "      <td>299</td>\n",
              "      <td>73.0</td>\n",
              "    </tr>\n",
              "    <tr>\n",
              "      <th>...</th>\n",
              "      <td>...</td>\n",
              "      <td>...</td>\n",
              "      <td>...</td>\n",
              "      <td>...</td>\n",
              "      <td>...</td>\n",
              "      <td>...</td>\n",
              "      <td>...</td>\n",
              "    </tr>\n",
              "    <tr>\n",
              "      <th>204263</th>\n",
              "      <td>2015-06-10 21:46:08.922</td>\n",
              "      <td>1407575</td>\n",
              "      <td>view</td>\n",
              "      <td>121220</td>\n",
              "      <td>NaN</td>\n",
              "      <td>1221</td>\n",
              "      <td>1426.0</td>\n",
              "    </tr>\n",
              "    <tr>\n",
              "      <th>47148</th>\n",
              "      <td>2015-06-03 15:01:29.991</td>\n",
              "      <td>1407576</td>\n",
              "      <td>view</td>\n",
              "      <td>356208</td>\n",
              "      <td>NaN</td>\n",
              "      <td>175</td>\n",
              "      <td>1492.0</td>\n",
              "    </tr>\n",
              "    <tr>\n",
              "      <th>1728728</th>\n",
              "      <td>2015-05-17 21:48:04.867</td>\n",
              "      <td>1407577</td>\n",
              "      <td>view</td>\n",
              "      <td>427784</td>\n",
              "      <td>NaN</td>\n",
              "      <td>1237</td>\n",
              "      <td>623.0</td>\n",
              "    </tr>\n",
              "    <tr>\n",
              "      <th>1710517</th>\n",
              "      <td>2015-05-17 01:21:23.288</td>\n",
              "      <td>1407578</td>\n",
              "      <td>view</td>\n",
              "      <td>188736</td>\n",
              "      <td>NaN</td>\n",
              "      <td>1584</td>\n",
              "      <td>1562.0</td>\n",
              "    </tr>\n",
              "    <tr>\n",
              "      <th>477617</th>\n",
              "      <td>2015-06-24 22:22:06.978</td>\n",
              "      <td>1407579</td>\n",
              "      <td>view</td>\n",
              "      <td>2521</td>\n",
              "      <td>NaN</td>\n",
              "      <td>1282</td>\n",
              "      <td>25.0</td>\n",
              "    </tr>\n",
              "  </tbody>\n",
              "</table>\n",
              "<p>2709446 rows × 7 columns</p>\n",
              "</div>"
            ],
            "text/plain": [
              "                      timestamp  visitorid event  itemid  transactionid  \\\n",
              "1338798 2015-09-11 20:55:17.175          0  view   67045            NaN   \n",
              "1333375 2015-09-11 20:49:49.439          0  view  285930            NaN   \n",
              "1338670 2015-09-11 20:52:39.591          0  view  357564            NaN   \n",
              "817585  2015-08-13 17:46:06.444          1  view   72028            NaN   \n",
              "717304  2015-08-07 18:01:08.920          2  view  216305            NaN   \n",
              "...                         ...        ...   ...     ...            ...   \n",
              "204263  2015-06-10 21:46:08.922    1407575  view  121220            NaN   \n",
              "47148   2015-06-03 15:01:29.991    1407576  view  356208            NaN   \n",
              "1728728 2015-05-17 21:48:04.867    1407577  view  427784            NaN   \n",
              "1710517 2015-05-17 01:21:23.288    1407578  view  188736            NaN   \n",
              "477617  2015-06-24 22:22:06.978    1407579  view    2521            NaN   \n",
              "\n",
              "         categoryid  parentid  \n",
              "1338798         333    1497.0  \n",
              "1333375        1188    1497.0  \n",
              "1338670         256    1257.0  \n",
              "817585         1192     955.0  \n",
              "717304          299      73.0  \n",
              "...             ...       ...  \n",
              "204263         1221    1426.0  \n",
              "47148           175    1492.0  \n",
              "1728728        1237     623.0  \n",
              "1710517        1584    1562.0  \n",
              "477617         1282      25.0  \n",
              "\n",
              "[2709446 rows x 7 columns]"
            ]
          },
          "execution_count": 20,
          "metadata": {},
          "output_type": "execute_result"
        }
      ],
      "source": [
        "data.timestamp = data.timestamp.astype('datetime64[ns]')\n",
        "data.sort_values(by=['visitorid','itemid', 'timestamp'])"
      ]
    },
    {
      "cell_type": "markdown",
      "id": "8fe7da89-599d-464f-b257-7d1832bc5ee4",
      "metadata": {
        "id": "8fe7da89-599d-464f-b257-7d1832bc5ee4"
      },
      "source": [
        "##### Analyzes customer behavior based on their interactions with items."
      ]
    },
    {
      "cell_type": "code",
      "execution_count": null,
      "id": "0e2cc10b-da7f-40b2-a374-91993c3309c5",
      "metadata": {
        "id": "0e2cc10b-da7f-40b2-a374-91993c3309c5"
      },
      "outputs": [],
      "source": [
        "def analyze_customer_behavior(data):\n",
        "\n",
        "    # Obtain visitor id, item id, and date time of 'transaction'\n",
        "    item_tra = data[['visitorid', 'itemid', 'timestamp']][data['event'] == 'transaction']\n",
        "\n",
        "    # Obtain visitor id, item id, and date time of 'add to cart'\n",
        "    item_atc = data[['visitorid', 'itemid', 'timestamp']][data['event'] == 'addtocart']\n",
        "\n",
        "    # Obtain visitor id, item id, and date time of 'view'\n",
        "    item_viw = data[['visitorid', 'itemid', 'timestamp']][data['event'] == 'view']\n",
        "\n",
        "    # Merge the DataFrames\n",
        "    time_df = item_tra.merge(item_atc, how='inner', on=['visitorid', 'itemid'], suffixes=[' (transaction)', ' (add_to_cart)'])\n",
        "    time_df = time_df.merge(item_viw, how='inner', on=['visitorid', 'itemid'])\n",
        "    time_df = time_df.rename(columns={'timestamp': 'timestamp (view)'})\n",
        "\n",
        "    # Calculate time differences\n",
        "    time_df['cart_to_transaction'] = (time_df['timestamp (transaction)'] - time_df['timestamp (add_to_cart)']).apply(lambda x: x.total_seconds() / 3600)\n",
        "    time_df['first_view'] = time_df.groupby('itemid')['timestamp (view)'].transform('min')\n",
        "    time_df['firstview_to_cart'] = (time_df['timestamp (add_to_cart)'] - time_df['first_view']).apply(lambda x: x.total_seconds() / 3600)\n",
        "\n",
        "    return time_df"
      ]
    },
    {
      "cell_type": "code",
      "execution_count": null,
      "id": "b7f9fc47-81d3-4183-89b5-98ccc8792aaa",
      "metadata": {
        "id": "b7f9fc47-81d3-4183-89b5-98ccc8792aaa",
        "outputId": "f5393f4d-ed4c-4bce-996a-2eec6c647e64"
      },
      "outputs": [
        {
          "data": {
            "text/html": [
              "<div>\n",
              "<style scoped>\n",
              "    .dataframe tbody tr th:only-of-type {\n",
              "        vertical-align: middle;\n",
              "    }\n",
              "\n",
              "    .dataframe tbody tr th {\n",
              "        vertical-align: top;\n",
              "    }\n",
              "\n",
              "    .dataframe thead th {\n",
              "        text-align: right;\n",
              "    }\n",
              "</style>\n",
              "<table border=\"1\" class=\"dataframe\">\n",
              "  <thead>\n",
              "    <tr style=\"text-align: right;\">\n",
              "      <th></th>\n",
              "      <th>visitorid</th>\n",
              "      <th>itemid</th>\n",
              "      <th>timestamp (transaction)</th>\n",
              "      <th>timestamp (add_to_cart)</th>\n",
              "      <th>timestamp (view)</th>\n",
              "      <th>cart_to_transaction</th>\n",
              "      <th>first_view</th>\n",
              "      <th>firstview_to_cart</th>\n",
              "    </tr>\n",
              "  </thead>\n",
              "  <tbody>\n",
              "    <tr>\n",
              "      <th>0</th>\n",
              "      <td>599528</td>\n",
              "      <td>356475</td>\n",
              "      <td>2015-06-02 05:17:56.276</td>\n",
              "      <td>2015-06-02 05:12:21.632</td>\n",
              "      <td>2015-06-02 05:11:36.102</td>\n",
              "      <td>0.092957</td>\n",
              "      <td>2015-06-02 05:11:36.102</td>\n",
              "      <td>0.012647</td>\n",
              "    </tr>\n",
              "    <tr>\n",
              "      <th>1</th>\n",
              "      <td>599528</td>\n",
              "      <td>356475</td>\n",
              "      <td>2015-06-02 05:17:56.276</td>\n",
              "      <td>2015-06-02 05:12:21.632</td>\n",
              "      <td>2015-06-03 02:12:25.235</td>\n",
              "      <td>0.092957</td>\n",
              "      <td>2015-06-02 05:11:36.102</td>\n",
              "      <td>0.012647</td>\n",
              "    </tr>\n",
              "    <tr>\n",
              "      <th>2</th>\n",
              "      <td>599528</td>\n",
              "      <td>356475</td>\n",
              "      <td>2015-06-02 05:17:56.276</td>\n",
              "      <td>2015-06-02 05:12:21.632</td>\n",
              "      <td>2015-06-06 21:10:10.602</td>\n",
              "      <td>0.092957</td>\n",
              "      <td>2015-06-02 05:11:36.102</td>\n",
              "      <td>0.012647</td>\n",
              "    </tr>\n",
              "    <tr>\n",
              "      <th>3</th>\n",
              "      <td>599528</td>\n",
              "      <td>356475</td>\n",
              "      <td>2015-06-02 05:17:56.276</td>\n",
              "      <td>2015-06-02 05:12:21.632</td>\n",
              "      <td>2015-06-08 02:44:57.480</td>\n",
              "      <td>0.092957</td>\n",
              "      <td>2015-06-02 05:11:36.102</td>\n",
              "      <td>0.012647</td>\n",
              "    </tr>\n",
              "    <tr>\n",
              "      <th>4</th>\n",
              "      <td>599528</td>\n",
              "      <td>356475</td>\n",
              "      <td>2015-06-02 05:17:56.276</td>\n",
              "      <td>2015-06-02 05:12:21.632</td>\n",
              "      <td>2015-06-10 00:34:37.794</td>\n",
              "      <td>0.092957</td>\n",
              "      <td>2015-06-02 05:11:36.102</td>\n",
              "      <td>0.012647</td>\n",
              "    </tr>\n",
              "  </tbody>\n",
              "</table>\n",
              "</div>"
            ],
            "text/plain": [
              "   visitorid  itemid timestamp (transaction) timestamp (add_to_cart)  \\\n",
              "0     599528  356475 2015-06-02 05:17:56.276 2015-06-02 05:12:21.632   \n",
              "1     599528  356475 2015-06-02 05:17:56.276 2015-06-02 05:12:21.632   \n",
              "2     599528  356475 2015-06-02 05:17:56.276 2015-06-02 05:12:21.632   \n",
              "3     599528  356475 2015-06-02 05:17:56.276 2015-06-02 05:12:21.632   \n",
              "4     599528  356475 2015-06-02 05:17:56.276 2015-06-02 05:12:21.632   \n",
              "\n",
              "         timestamp (view)  cart_to_transaction              first_view  \\\n",
              "0 2015-06-02 05:11:36.102             0.092957 2015-06-02 05:11:36.102   \n",
              "1 2015-06-03 02:12:25.235             0.092957 2015-06-02 05:11:36.102   \n",
              "2 2015-06-06 21:10:10.602             0.092957 2015-06-02 05:11:36.102   \n",
              "3 2015-06-08 02:44:57.480             0.092957 2015-06-02 05:11:36.102   \n",
              "4 2015-06-10 00:34:37.794             0.092957 2015-06-02 05:11:36.102   \n",
              "\n",
              "   firstview_to_cart  \n",
              "0           0.012647  \n",
              "1           0.012647  \n",
              "2           0.012647  \n",
              "3           0.012647  \n",
              "4           0.012647  "
            ]
          },
          "execution_count": 22,
          "metadata": {},
          "output_type": "execute_result"
        }
      ],
      "source": [
        "time_df=analyze_customer_behavior(data)\n",
        "time_df.head()"
      ]
    },
    {
      "cell_type": "code",
      "execution_count": null,
      "id": "31c97b45-4f21-4c08-9bc3-149c96c7a6e8",
      "metadata": {
        "id": "31c97b45-4f21-4c08-9bc3-149c96c7a6e8"
      },
      "outputs": [],
      "source": [
        "data['purchased'] = data['transactionid'].apply(lambda x: 1 if not pd.isnull(x) else 0)"
      ]
    },
    {
      "cell_type": "code",
      "execution_count": null,
      "id": "3b5f8c8c-4abf-4c2d-ab84-6ca7d063aa9e",
      "metadata": {
        "id": "3b5f8c8c-4abf-4c2d-ab84-6ca7d063aa9e",
        "outputId": "7cb65d50-2d0b-40d0-cb03-12c96a087169"
      },
      "outputs": [
        {
          "data": {
            "text/html": [
              "<div>\n",
              "<style scoped>\n",
              "    .dataframe tbody tr th:only-of-type {\n",
              "        vertical-align: middle;\n",
              "    }\n",
              "\n",
              "    .dataframe tbody tr th {\n",
              "        vertical-align: top;\n",
              "    }\n",
              "\n",
              "    .dataframe thead th {\n",
              "        text-align: right;\n",
              "    }\n",
              "</style>\n",
              "<table border=\"1\" class=\"dataframe\">\n",
              "  <thead>\n",
              "    <tr style=\"text-align: right;\">\n",
              "      <th></th>\n",
              "      <th>timestamp</th>\n",
              "      <th>visitorid</th>\n",
              "      <th>event</th>\n",
              "      <th>itemid</th>\n",
              "      <th>transactionid</th>\n",
              "      <th>categoryid</th>\n",
              "      <th>parentid</th>\n",
              "      <th>purchased</th>\n",
              "    </tr>\n",
              "  </thead>\n",
              "  <tbody>\n",
              "    <tr>\n",
              "      <th>0</th>\n",
              "      <td>2015-06-02 05:02:12.117</td>\n",
              "      <td>257597</td>\n",
              "      <td>view</td>\n",
              "      <td>355908</td>\n",
              "      <td>NaN</td>\n",
              "      <td>1173</td>\n",
              "      <td>805.0</td>\n",
              "      <td>0</td>\n",
              "    </tr>\n",
              "    <tr>\n",
              "      <th>1</th>\n",
              "      <td>2015-06-02 05:50:14.164</td>\n",
              "      <td>992329</td>\n",
              "      <td>view</td>\n",
              "      <td>248676</td>\n",
              "      <td>NaN</td>\n",
              "      <td>1231</td>\n",
              "      <td>901.0</td>\n",
              "      <td>0</td>\n",
              "    </tr>\n",
              "    <tr>\n",
              "      <th>2</th>\n",
              "      <td>2015-06-02 05:12:35.914</td>\n",
              "      <td>483717</td>\n",
              "      <td>view</td>\n",
              "      <td>253185</td>\n",
              "      <td>NaN</td>\n",
              "      <td>914</td>\n",
              "      <td>226.0</td>\n",
              "      <td>0</td>\n",
              "    </tr>\n",
              "    <tr>\n",
              "      <th>3</th>\n",
              "      <td>2015-06-02 05:02:17.106</td>\n",
              "      <td>951259</td>\n",
              "      <td>view</td>\n",
              "      <td>367447</td>\n",
              "      <td>NaN</td>\n",
              "      <td>1613</td>\n",
              "      <td>250.0</td>\n",
              "      <td>0</td>\n",
              "    </tr>\n",
              "    <tr>\n",
              "      <th>4</th>\n",
              "      <td>2015-06-02 05:02:17.106</td>\n",
              "      <td>951259</td>\n",
              "      <td>view</td>\n",
              "      <td>367447</td>\n",
              "      <td>NaN</td>\n",
              "      <td>491</td>\n",
              "      <td>679.0</td>\n",
              "      <td>0</td>\n",
              "    </tr>\n",
              "  </tbody>\n",
              "</table>\n",
              "</div>"
            ],
            "text/plain": [
              "                timestamp  visitorid event  itemid  transactionid  categoryid  \\\n",
              "0 2015-06-02 05:02:12.117     257597  view  355908            NaN        1173   \n",
              "1 2015-06-02 05:50:14.164     992329  view  248676            NaN        1231   \n",
              "2 2015-06-02 05:12:35.914     483717  view  253185            NaN         914   \n",
              "3 2015-06-02 05:02:17.106     951259  view  367447            NaN        1613   \n",
              "4 2015-06-02 05:02:17.106     951259  view  367447            NaN         491   \n",
              "\n",
              "   parentid  purchased  \n",
              "0     805.0          0  \n",
              "1     901.0          0  \n",
              "2     226.0          0  \n",
              "3     250.0          0  \n",
              "4     679.0          0  "
            ]
          },
          "execution_count": 24,
          "metadata": {},
          "output_type": "execute_result"
        }
      ],
      "source": [
        "ds = data.copy()\n",
        "ds.head()"
      ]
    },
    {
      "cell_type": "code",
      "execution_count": null,
      "id": "46a6a166-2625-4353-8db7-d53314dee790",
      "metadata": {
        "id": "46a6a166-2625-4353-8db7-d53314dee790"
      },
      "outputs": [],
      "source": [
        "ds = ds.drop(['timestamp', 'transactionid'], axis = 1)\n",
        "ds['item_visitor_views_num'] = ds[ds['event']=='view'].groupby(['visitorid', 'itemid'])['event'].transform('count')\n",
        "ds['add_to_cart'] = ds['event'].apply(lambda x: 1 if x == 'addtocart' else 0)\n",
        "ds = ds.drop_duplicates()"
      ]
    },
    {
      "cell_type": "code",
      "execution_count": null,
      "id": "92daf4cc-7d24-4ea6-8041-a8d10efadcc9",
      "metadata": {
        "id": "92daf4cc-7d24-4ea6-8041-a8d10efadcc9"
      },
      "outputs": [],
      "source": [
        "ds['visitorid'] = ds['visitorid'].astype('category')\n",
        "ds['itemid'] = ds['itemid'].astype('category')\n",
        "ds['categoryid'] = ds['categoryid'].astype('category')\n",
        "ds['parentid'] = ds['parentid'].astype('category')\n",
        "ds['event'] = ds['event'].astype('category')\n",
        "ds['add_to_cart'] = ds['add_to_cart'].astype('category')\n",
        "ds['purchased'] = ds['purchased'].astype('category')"
      ]
    },
    {
      "cell_type": "code",
      "execution_count": null,
      "id": "30136bfa-4fb8-4949-8ec1-bd48e12acc07",
      "metadata": {
        "id": "30136bfa-4fb8-4949-8ec1-bd48e12acc07"
      },
      "outputs": [],
      "source": [
        "ds = ds.drop('visitorid', axis=1).drop_duplicates()\n"
      ]
    },
    {
      "cell_type": "code",
      "execution_count": null,
      "id": "be27e85f-1a7c-4410-afe7-ac2210b2d423",
      "metadata": {
        "id": "be27e85f-1a7c-4410-afe7-ac2210b2d423",
        "outputId": "2c93e20c-73a6-4d0b-aefc-c7aa01bdb65e"
      },
      "outputs": [
        {
          "data": {
            "text/html": [
              "<div>\n",
              "<style scoped>\n",
              "    .dataframe tbody tr th:only-of-type {\n",
              "        vertical-align: middle;\n",
              "    }\n",
              "\n",
              "    .dataframe tbody tr th {\n",
              "        vertical-align: top;\n",
              "    }\n",
              "\n",
              "    .dataframe thead th {\n",
              "        text-align: right;\n",
              "    }\n",
              "</style>\n",
              "<table border=\"1\" class=\"dataframe\">\n",
              "  <thead>\n",
              "    <tr style=\"text-align: right;\">\n",
              "      <th></th>\n",
              "      <th>event</th>\n",
              "      <th>itemid</th>\n",
              "      <th>categoryid</th>\n",
              "      <th>parentid</th>\n",
              "      <th>purchased</th>\n",
              "      <th>item_visitor_views_num</th>\n",
              "      <th>add_to_cart</th>\n",
              "    </tr>\n",
              "  </thead>\n",
              "  <tbody>\n",
              "    <tr>\n",
              "      <th>0</th>\n",
              "      <td>view</td>\n",
              "      <td>355908</td>\n",
              "      <td>1173</td>\n",
              "      <td>805.0</td>\n",
              "      <td>0</td>\n",
              "      <td>1.0</td>\n",
              "      <td>0</td>\n",
              "    </tr>\n",
              "    <tr>\n",
              "      <th>1</th>\n",
              "      <td>view</td>\n",
              "      <td>248676</td>\n",
              "      <td>1231</td>\n",
              "      <td>901.0</td>\n",
              "      <td>0</td>\n",
              "      <td>1.0</td>\n",
              "      <td>0</td>\n",
              "    </tr>\n",
              "    <tr>\n",
              "      <th>2</th>\n",
              "      <td>view</td>\n",
              "      <td>253185</td>\n",
              "      <td>914</td>\n",
              "      <td>226.0</td>\n",
              "      <td>0</td>\n",
              "      <td>2.0</td>\n",
              "      <td>0</td>\n",
              "    </tr>\n",
              "    <tr>\n",
              "      <th>3</th>\n",
              "      <td>view</td>\n",
              "      <td>367447</td>\n",
              "      <td>1613</td>\n",
              "      <td>250.0</td>\n",
              "      <td>0</td>\n",
              "      <td>2.0</td>\n",
              "      <td>0</td>\n",
              "    </tr>\n",
              "    <tr>\n",
              "      <th>4</th>\n",
              "      <td>view</td>\n",
              "      <td>367447</td>\n",
              "      <td>491</td>\n",
              "      <td>679.0</td>\n",
              "      <td>0</td>\n",
              "      <td>2.0</td>\n",
              "      <td>0</td>\n",
              "    </tr>\n",
              "  </tbody>\n",
              "</table>\n",
              "</div>"
            ],
            "text/plain": [
              "  event  itemid categoryid parentid purchased  item_visitor_views_num  \\\n",
              "0  view  355908       1173    805.0         0                     1.0   \n",
              "1  view  248676       1231    901.0         0                     1.0   \n",
              "2  view  253185        914    226.0         0                     2.0   \n",
              "3  view  367447       1613    250.0         0                     2.0   \n",
              "4  view  367447        491    679.0         0                     2.0   \n",
              "\n",
              "  add_to_cart  \n",
              "0           0  \n",
              "1           0  \n",
              "2           0  \n",
              "3           0  \n",
              "4           0  "
            ]
          },
          "execution_count": 28,
          "metadata": {},
          "output_type": "execute_result"
        }
      ],
      "source": [
        "ds.head()"
      ]
    },
    {
      "cell_type": "markdown",
      "id": "c9651386-466e-433a-a828-93af081f753a",
      "metadata": {
        "id": "c9651386-466e-433a-a828-93af081f753a"
      },
      "source": [
        "##### create a new df for modelling which contains: visitorid, num_items_viewed, view_count, bought_count, purchased also customer analysis data"
      ]
    },
    {
      "cell_type": "code",
      "execution_count": null,
      "id": "707d6ee6-b81e-4db5-be4c-9d709d438a38",
      "metadata": {
        "id": "707d6ee6-b81e-4db5-be4c-9d709d438a38"
      },
      "outputs": [],
      "source": [
        "def create_dataframe(visitor_list):\n",
        "    df_array = []\n",
        "    for index in visitor_list:\n",
        "        # create the base dataframe of each visitor that prepare for following data extraction\n",
        "        v_df = data[data.visitorid == index]\n",
        "        m_df = time_df[time_df.visitorid == index]\n",
        "\n",
        "        temp = []\n",
        "        # add visitor id\n",
        "        temp.append(index)\n",
        "\n",
        "        # num_items_viewed\n",
        "        temp.append(v_df[v_df.event == 'view'].itemid.unique().size)\n",
        "\n",
        "        #Add the total number of views regardless of product type\n",
        "        temp.append(v_df[v_df.event == 'view'].event.count())\n",
        "\n",
        "        #Add timediff of firstview_to_cart\n",
        "        temp.append(m_df['firstview_to_cart'].mean())\n",
        "\n",
        "        #Add timediff of cart_to_transaction\n",
        "        temp.append(m_df['cart_to_transaction'].mean())\n",
        "\n",
        "        #Add the total number of purchases\n",
        "        number_of_items_bought = v_df[v_df.event == 'transaction'].event.count()\n",
        "        temp.append(number_of_items_bought)\n",
        "\n",
        "        #Then create binery 0 or 1 for purchased\n",
        "        if(number_of_items_bought == 0):\n",
        "            temp.append(0)\n",
        "        else:\n",
        "            temp.append(1)\n",
        "\n",
        "        df_array.append(temp)\n",
        "\n",
        "    return pd.DataFrame(df_array, columns=['visitorid', 'num_items_viewed', 'view_count', 'firstview_to_cart', 'cart_to_transaction', 'bought_count', 'purchased'])"
      ]
    },
    {
      "cell_type": "code",
      "execution_count": null,
      "id": "64a190c7-f894-49e5-bfd2-0459f2b33be9",
      "metadata": {
        "id": "64a190c7-f894-49e5-bfd2-0459f2b33be9",
        "outputId": "8250e5b4-4c76-4d6c-c2e5-1f02063cc2ee"
      },
      "outputs": [
        {
          "data": {
            "text/html": [
              "<div>\n",
              "<style scoped>\n",
              "    .dataframe tbody tr th:only-of-type {\n",
              "        vertical-align: middle;\n",
              "    }\n",
              "\n",
              "    .dataframe tbody tr th {\n",
              "        vertical-align: top;\n",
              "    }\n",
              "\n",
              "    .dataframe thead th {\n",
              "        text-align: right;\n",
              "    }\n",
              "</style>\n",
              "<table border=\"1\" class=\"dataframe\">\n",
              "  <thead>\n",
              "    <tr style=\"text-align: right;\">\n",
              "      <th></th>\n",
              "      <th>visitorid</th>\n",
              "      <th>num_items_viewed</th>\n",
              "      <th>view_count</th>\n",
              "      <th>firstview_to_cart</th>\n",
              "      <th>cart_to_transaction</th>\n",
              "      <th>bought_count</th>\n",
              "      <th>purchased</th>\n",
              "    </tr>\n",
              "  </thead>\n",
              "  <tbody>\n",
              "    <tr>\n",
              "      <th>0</th>\n",
              "      <td>599528</td>\n",
              "      <td>2</td>\n",
              "      <td>15</td>\n",
              "      <td>0.012647</td>\n",
              "      <td>0.092957</td>\n",
              "      <td>1</td>\n",
              "      <td>1</td>\n",
              "    </tr>\n",
              "    <tr>\n",
              "      <th>1</th>\n",
              "      <td>121688</td>\n",
              "      <td>13</td>\n",
              "      <td>16</td>\n",
              "      <td>-0.145197</td>\n",
              "      <td>0.927314</td>\n",
              "      <td>12</td>\n",
              "      <td>1</td>\n",
              "    </tr>\n",
              "    <tr>\n",
              "      <th>2</th>\n",
              "      <td>552148</td>\n",
              "      <td>1</td>\n",
              "      <td>1</td>\n",
              "      <td>0.036725</td>\n",
              "      <td>0.009482</td>\n",
              "      <td>1</td>\n",
              "      <td>1</td>\n",
              "    </tr>\n",
              "    <tr>\n",
              "      <th>3</th>\n",
              "      <td>102019</td>\n",
              "      <td>2</td>\n",
              "      <td>6</td>\n",
              "      <td>0.024161</td>\n",
              "      <td>0.259752</td>\n",
              "      <td>2</td>\n",
              "      <td>1</td>\n",
              "    </tr>\n",
              "    <tr>\n",
              "      <th>4</th>\n",
              "      <td>189384</td>\n",
              "      <td>7</td>\n",
              "      <td>25</td>\n",
              "      <td>479.378603</td>\n",
              "      <td>0.051816</td>\n",
              "      <td>2</td>\n",
              "      <td>1</td>\n",
              "    </tr>\n",
              "  </tbody>\n",
              "</table>\n",
              "</div>"
            ],
            "text/plain": [
              "   visitorid  num_items_viewed  view_count  firstview_to_cart  \\\n",
              "0     599528                 2          15           0.012647   \n",
              "1     121688                13          16          -0.145197   \n",
              "2     552148                 1           1           0.036725   \n",
              "3     102019                 2           6           0.024161   \n",
              "4     189384                 7          25         479.378603   \n",
              "\n",
              "   cart_to_transaction  bought_count  purchased  \n",
              "0             0.092957             1          1  \n",
              "1             0.927314            12          1  \n",
              "2             0.009482             1          1  \n",
              "3             0.259752             2          1  \n",
              "4             0.051816             2          1  "
            ]
          },
          "execution_count": 30,
          "metadata": {},
          "output_type": "execute_result"
        }
      ],
      "source": [
        "buying_visitors_df = create_dataframe(customer_purchased)\n",
        "buying_visitors_df.head()"
      ]
    },
    {
      "cell_type": "code",
      "execution_count": null,
      "id": "cd14f860-a0d3-4159-ba48-aecaf4d373ce",
      "metadata": {
        "id": "cd14f860-a0d3-4159-ba48-aecaf4d373ce",
        "outputId": "c074bfb4-852f-459e-983d-9b1a74688b04"
      },
      "outputs": [
        {
          "data": {
            "text/plain": [
              "1395861"
            ]
          },
          "execution_count": 31,
          "metadata": {},
          "output_type": "execute_result"
        }
      ],
      "source": [
        "all_customers = event['visitorid'].unique()\n",
        "customer_browsed = [x for x in all_customers if x not in customer_purchased]\n",
        "len(customer_browsed)"
      ]
    },
    {
      "cell_type": "code",
      "execution_count": null,
      "id": "2236624f-7906-427c-b10c-1b6f7dd7e4fc",
      "metadata": {
        "id": "2236624f-7906-427c-b10c-1b6f7dd7e4fc"
      },
      "outputs": [],
      "source": [
        "import random\n",
        "random.shuffle(customer_browsed)\n",
        "viewing_visitors_df = create_dataframe(customer_browsed[0:23438])"
      ]
    },
    {
      "cell_type": "code",
      "execution_count": null,
      "id": "82e615de-0fe9-4f9c-b22b-d5d05a80428a",
      "metadata": {
        "id": "82e615de-0fe9-4f9c-b22b-d5d05a80428a"
      },
      "outputs": [],
      "source": [
        "data_ml = pd.concat([buying_visitors_df, viewing_visitors_df], ignore_index=True)\n",
        "data_ml = data_ml.sample(frac=1)"
      ]
    },
    {
      "cell_type": "markdown",
      "id": "a8c6019f-bfb2-4693-a484-feb85395aab8",
      "metadata": {
        "id": "a8c6019f-bfb2-4693-a484-feb85395aab8"
      },
      "source": [
        "##### calculating view rate and purchase rate"
      ]
    },
    {
      "cell_type": "code",
      "execution_count": null,
      "id": "323ae294-99aa-45f1-86a3-79dbac98f7ed",
      "metadata": {
        "id": "323ae294-99aa-45f1-86a3-79dbac98f7ed"
      },
      "outputs": [],
      "source": [
        "data_ml['view_rate'] = data_ml['num_items_viewed']/data_ml['view_count']\n",
        "data_ml['purchase_rate'] = data_ml['bought_count']/data_ml['view_count']"
      ]
    },
    {
      "cell_type": "code",
      "execution_count": null,
      "id": "f2683ea6-ecea-4412-b1f1-488947352d07",
      "metadata": {
        "id": "f2683ea6-ecea-4412-b1f1-488947352d07",
        "outputId": "a6e50824-2121-4e96-f0ff-d002de9612e7"
      },
      "outputs": [
        {
          "data": {
            "image/png": "[encoded data removed]",
            "text/plain": [
              "<Figure size 1187.5x1000 with 20 Axes>"
            ]
          },
          "metadata": {},
          "output_type": "display_data"
        }
      ],
      "source": [
        "import seaborn as sns\n",
        "import matplotlib.pyplot as plt\n",
        "import warnings\n",
        "\n",
        "warnings.filterwarnings(\"ignore\")\n",
        "\n",
        "sns.pairplot(data_ml,\n",
        "             x_vars=['num_items_viewed', 'firstview_to_cart', 'bought_count', 'view_rate'],\n",
        "             y_vars=['num_items_viewed', 'firstview_to_cart', 'bought_count', 'view_rate'],\n",
        "             hue='purchase_rate',\n",
        "             palette='viridis')\n",
        "plt.show()"
      ]
    },
    {
      "cell_type": "code",
      "execution_count": null,
      "id": "cb6b809a-810e-46ca-9ac8-6a23434341d6",
      "metadata": {
        "id": "cb6b809a-810e-46ca-9ac8-6a23434341d6",
        "outputId": "c49c44db-7a6c-4f0c-f46c-f263755d4ff5"
      },
      "outputs": [
        {
          "data": {
            "text/html": [
              "<style type=\"text/css\">\n",
              "#T_667f8_row0_col0, #T_667f8_row1_col1, #T_667f8_row2_col2, #T_667f8_row3_col3, #T_667f8_row4_col4, #T_667f8_row5_col5, #T_667f8_row6_col6, #T_667f8_row7_col7 {\n",
              "  background-color: #b40426;\n",
              "  color: #f1f1f1;\n",
              "}\n",
              "#T_667f8_row0_col1, #T_667f8_row1_col0 {\n",
              "  background-color: #b50927;\n",
              "  color: #f1f1f1;\n",
              "}\n",
              "#T_667f8_row0_col2, #T_667f8_row2_col0, #T_667f8_row2_col6, #T_667f8_row6_col2 {\n",
              "  background-color: #a7c5fe;\n",
              "  color: #000000;\n",
              "}\n",
              "#T_667f8_row0_col3, #T_667f8_row3_col0, #T_667f8_row3_col4, #T_667f8_row4_col3 {\n",
              "  background-color: #a3c2fe;\n",
              "  color: #000000;\n",
              "}\n",
              "#T_667f8_row0_col4, #T_667f8_row1_col4, #T_667f8_row4_col0, #T_667f8_row4_col1 {\n",
              "  background-color: #d65244;\n",
              "  color: #f1f1f1;\n",
              "}\n",
              "#T_667f8_row0_col5, #T_667f8_row5_col0 {\n",
              "  background-color: #bbd1f8;\n",
              "  color: #000000;\n",
              "}\n",
              "#T_667f8_row0_col6, #T_667f8_row6_col0 {\n",
              "  background-color: #98b9ff;\n",
              "  color: #000000;\n",
              "}\n",
              "#T_667f8_row0_col7, #T_667f8_row1_col7, #T_667f8_row7_col0, #T_667f8_row7_col1 {\n",
              "  background-color: #a1c0ff;\n",
              "  color: #000000;\n",
              "}\n",
              "#T_667f8_row1_col2, #T_667f8_row1_col3, #T_667f8_row2_col1, #T_667f8_row2_col3, #T_667f8_row3_col1, #T_667f8_row3_col2 {\n",
              "  background-color: #a6c4fe;\n",
              "  color: #000000;\n",
              "}\n",
              "#T_667f8_row1_col5, #T_667f8_row5_col1 {\n",
              "  background-color: #bed2f6;\n",
              "  color: #000000;\n",
              "}\n",
              "#T_667f8_row1_col6, #T_667f8_row6_col1 {\n",
              "  background-color: #92b4fe;\n",
              "  color: #000000;\n",
              "}\n",
              "#T_667f8_row2_col4, #T_667f8_row2_col7, #T_667f8_row4_col2, #T_667f8_row7_col2 {\n",
              "  background-color: #a9c6fd;\n",
              "  color: #000000;\n",
              "}\n",
              "#T_667f8_row2_col5, #T_667f8_row3_col5, #T_667f8_row5_col2, #T_667f8_row5_col3 {\n",
              "  background-color: #000000;\n",
              "  color: #f1f1f1;\n",
              "}\n",
              "#T_667f8_row3_col6, #T_667f8_row6_col3 {\n",
              "  background-color: #97b8ff;\n",
              "  color: #000000;\n",
              "}\n",
              "#T_667f8_row3_col7, #T_667f8_row6_col7, #T_667f8_row7_col3, #T_667f8_row7_col6 {\n",
              "  background-color: #9abbff;\n",
              "  color: #000000;\n",
              "}\n",
              "#T_667f8_row4_col5, #T_667f8_row5_col4 {\n",
              "  background-color: #ccd9ed;\n",
              "  color: #000000;\n",
              "}\n",
              "#T_667f8_row4_col6, #T_667f8_row6_col4 {\n",
              "  background-color: #90b2fe;\n",
              "  color: #000000;\n",
              "}\n",
              "#T_667f8_row4_col7, #T_667f8_row7_col4 {\n",
              "  background-color: #b9d0f9;\n",
              "  color: #000000;\n",
              "}\n",
              "#T_667f8_row5_col6, #T_667f8_row6_col5 {\n",
              "  background-color: #3b4cc0;\n",
              "  color: #f1f1f1;\n",
              "}\n",
              "#T_667f8_row5_col7, #T_667f8_row7_col5 {\n",
              "  background-color: #f29274;\n",
              "  color: #f1f1f1;\n",
              "}\n",
              "</style>\n",
              "<table id=\"T_667f8\">\n",
              "  <thead>\n",
              "    <tr>\n",
              "      <th class=\"blank level0\" >&nbsp;</th>\n",
              "      <th id=\"T_667f8_level0_col0\" class=\"col_heading level0 col0\" >num_items_viewed</th>\n",
              "      <th id=\"T_667f8_level0_col1\" class=\"col_heading level0 col1\" >view_count</th>\n",
              "      <th id=\"T_667f8_level0_col2\" class=\"col_heading level0 col2\" >firstview_to_cart</th>\n",
              "      <th id=\"T_667f8_level0_col3\" class=\"col_heading level0 col3\" >cart_to_transaction</th>\n",
              "      <th id=\"T_667f8_level0_col4\" class=\"col_heading level0 col4\" >bought_count</th>\n",
              "      <th id=\"T_667f8_level0_col5\" class=\"col_heading level0 col5\" >purchased</th>\n",
              "      <th id=\"T_667f8_level0_col6\" class=\"col_heading level0 col6\" >view_rate</th>\n",
              "      <th id=\"T_667f8_level0_col7\" class=\"col_heading level0 col7\" >purchase_rate</th>\n",
              "    </tr>\n",
              "  </thead>\n",
              "  <tbody>\n",
              "    <tr>\n",
              "      <th id=\"T_667f8_level0_row0\" class=\"row_heading level0 row0\" >num_items_viewed</th>\n",
              "      <td id=\"T_667f8_row0_col0\" class=\"data row0 col0\" >1.000000</td>\n",
              "      <td id=\"T_667f8_row0_col1\" class=\"data row0 col1\" >0.990986</td>\n",
              "      <td id=\"T_667f8_row0_col2\" class=\"data row0 col2\" >0.009102</td>\n",
              "      <td id=\"T_667f8_row0_col3\" class=\"data row0 col3\" >-0.003357</td>\n",
              "      <td id=\"T_667f8_row0_col4\" class=\"data row0 col4\" >0.856763</td>\n",
              "      <td id=\"T_667f8_row0_col5\" class=\"data row0 col5\" >0.096955</td>\n",
              "      <td id=\"T_667f8_row0_col6\" class=\"data row0 col6\" >-0.048304</td>\n",
              "      <td id=\"T_667f8_row0_col7\" class=\"data row0 col7\" >-0.017035</td>\n",
              "    </tr>\n",
              "    <tr>\n",
              "      <th id=\"T_667f8_level0_row1\" class=\"row_heading level0 row1\" >view_count</th>\n",
              "      <td id=\"T_667f8_row1_col0\" class=\"data row1 col0\" >0.990986</td>\n",
              "      <td id=\"T_667f8_row1_col1\" class=\"data row1 col1\" >1.000000</td>\n",
              "      <td id=\"T_667f8_row1_col2\" class=\"data row1 col2\" >0.008717</td>\n",
              "      <td id=\"T_667f8_row1_col3\" class=\"data row1 col3\" >0.006059</td>\n",
              "      <td id=\"T_667f8_row1_col4\" class=\"data row1 col4\" >0.852426</td>\n",
              "      <td id=\"T_667f8_row1_col5\" class=\"data row1 col5\" >0.109338</td>\n",
              "      <td id=\"T_667f8_row1_col6\" class=\"data row1 col6\" >-0.082295</td>\n",
              "      <td id=\"T_667f8_row1_col7\" class=\"data row1 col7\" >-0.018429</td>\n",
              "    </tr>\n",
              "    <tr>\n",
              "      <th id=\"T_667f8_level0_row2\" class=\"row_heading level0 row2\" >firstview_to_cart</th>\n",
              "      <td id=\"T_667f8_row2_col0\" class=\"data row2 col0\" >0.009102</td>\n",
              "      <td id=\"T_667f8_row2_col1\" class=\"data row2 col1\" >0.008717</td>\n",
              "      <td id=\"T_667f8_row2_col2\" class=\"data row2 col2\" >1.000000</td>\n",
              "      <td id=\"T_667f8_row2_col3\" class=\"data row2 col3\" >0.003404</td>\n",
              "      <td id=\"T_667f8_row2_col4\" class=\"data row2 col4\" >0.016016</td>\n",
              "      <td id=\"T_667f8_row2_col5\" class=\"data row2 col5\" >nan</td>\n",
              "      <td id=\"T_667f8_row2_col6\" class=\"data row2 col6\" >0.012673</td>\n",
              "      <td id=\"T_667f8_row2_col7\" class=\"data row2 col7\" >0.018386</td>\n",
              "    </tr>\n",
              "    <tr>\n",
              "      <th id=\"T_667f8_level0_row3\" class=\"row_heading level0 row3\" >cart_to_transaction</th>\n",
              "      <td id=\"T_667f8_row3_col0\" class=\"data row3 col0\" >-0.003357</td>\n",
              "      <td id=\"T_667f8_row3_col1\" class=\"data row3 col1\" >0.006059</td>\n",
              "      <td id=\"T_667f8_row3_col2\" class=\"data row3 col2\" >0.003404</td>\n",
              "      <td id=\"T_667f8_row3_col3\" class=\"data row3 col3\" >1.000000</td>\n",
              "      <td id=\"T_667f8_row3_col4\" class=\"data row3 col4\" >-0.008116</td>\n",
              "      <td id=\"T_667f8_row3_col5\" class=\"data row3 col5\" >nan</td>\n",
              "      <td id=\"T_667f8_row3_col6\" class=\"data row3 col6\" >-0.057444</td>\n",
              "      <td id=\"T_667f8_row3_col7\" class=\"data row3 col7\" >-0.047596</td>\n",
              "    </tr>\n",
              "    <tr>\n",
              "      <th id=\"T_667f8_level0_row4\" class=\"row_heading level0 row4\" >bought_count</th>\n",
              "      <td id=\"T_667f8_row4_col0\" class=\"data row4 col0\" >0.856763</td>\n",
              "      <td id=\"T_667f8_row4_col1\" class=\"data row4 col1\" >0.852426</td>\n",
              "      <td id=\"T_667f8_row4_col2\" class=\"data row4 col2\" >0.016016</td>\n",
              "      <td id=\"T_667f8_row4_col3\" class=\"data row4 col3\" >-0.008116</td>\n",
              "      <td id=\"T_667f8_row4_col4\" class=\"data row4 col4\" >1.000000</td>\n",
              "      <td id=\"T_667f8_row4_col5\" class=\"data row4 col5\" >0.178404</td>\n",
              "      <td id=\"T_667f8_row4_col6\" class=\"data row4 col6\" >-0.085816</td>\n",
              "      <td id=\"T_667f8_row4_col7\" class=\"data row4 col7\" >0.087444</td>\n",
              "    </tr>\n",
              "    <tr>\n",
              "      <th id=\"T_667f8_level0_row5\" class=\"row_heading level0 row5\" >purchased</th>\n",
              "      <td id=\"T_667f8_row5_col0\" class=\"data row5 col0\" >0.096955</td>\n",
              "      <td id=\"T_667f8_row5_col1\" class=\"data row5 col1\" >0.109338</td>\n",
              "      <td id=\"T_667f8_row5_col2\" class=\"data row5 col2\" >nan</td>\n",
              "      <td id=\"T_667f8_row5_col3\" class=\"data row5 col3\" >nan</td>\n",
              "      <td id=\"T_667f8_row5_col4\" class=\"data row5 col4\" >0.178404</td>\n",
              "      <td id=\"T_667f8_row5_col5\" class=\"data row5 col5\" >1.000000</td>\n",
              "      <td id=\"T_667f8_row5_col6\" class=\"data row5 col6\" >-0.466460</td>\n",
              "      <td id=\"T_667f8_row5_col7\" class=\"data row5 col7\" >0.660358</td>\n",
              "    </tr>\n",
              "    <tr>\n",
              "      <th id=\"T_667f8_level0_row6\" class=\"row_heading level0 row6\" >view_rate</th>\n",
              "      <td id=\"T_667f8_row6_col0\" class=\"data row6 col0\" >-0.048304</td>\n",
              "      <td id=\"T_667f8_row6_col1\" class=\"data row6 col1\" >-0.082295</td>\n",
              "      <td id=\"T_667f8_row6_col2\" class=\"data row6 col2\" >0.012673</td>\n",
              "      <td id=\"T_667f8_row6_col3\" class=\"data row6 col3\" >-0.057444</td>\n",
              "      <td id=\"T_667f8_row6_col4\" class=\"data row6 col4\" >-0.085816</td>\n",
              "      <td id=\"T_667f8_row6_col5\" class=\"data row6 col5\" >-0.466460</td>\n",
              "      <td id=\"T_667f8_row6_col6\" class=\"data row6 col6\" >1.000000</td>\n",
              "      <td id=\"T_667f8_row6_col7\" class=\"data row6 col7\" >-0.045358</td>\n",
              "    </tr>\n",
              "    <tr>\n",
              "      <th id=\"T_667f8_level0_row7\" class=\"row_heading level0 row7\" >purchase_rate</th>\n",
              "      <td id=\"T_667f8_row7_col0\" class=\"data row7 col0\" >-0.017035</td>\n",
              "      <td id=\"T_667f8_row7_col1\" class=\"data row7 col1\" >-0.018429</td>\n",
              "      <td id=\"T_667f8_row7_col2\" class=\"data row7 col2\" >0.018386</td>\n",
              "      <td id=\"T_667f8_row7_col3\" class=\"data row7 col3\" >-0.047596</td>\n",
              "      <td id=\"T_667f8_row7_col4\" class=\"data row7 col4\" >0.087444</td>\n",
              "      <td id=\"T_667f8_row7_col5\" class=\"data row7 col5\" >0.660358</td>\n",
              "      <td id=\"T_667f8_row7_col6\" class=\"data row7 col6\" >-0.045358</td>\n",
              "      <td id=\"T_667f8_row7_col7\" class=\"data row7 col7\" >1.000000</td>\n",
              "    </tr>\n",
              "  </tbody>\n",
              "</table>\n"
            ],
            "text/plain": [
              "<pandas.io.formats.style.Styler at 0x19708befc50>"
            ]
          },
          "execution_count": 36,
          "metadata": {},
          "output_type": "execute_result"
        }
      ],
      "source": [
        "data_ml.drop('visitorid', axis=1).corr().style.background_gradient(cmap='coolwarm',axis = None)"
      ]
    },
    {
      "cell_type": "code",
      "execution_count": null,
      "id": "b2150c45-752f-40b7-9cb2-54152c2db7ab",
      "metadata": {
        "id": "b2150c45-752f-40b7-9cb2-54152c2db7ab"
      },
      "outputs": [],
      "source": [
        "data_ml = data_ml.dropna(subset=['view_rate'])"
      ]
    },
    {
      "cell_type": "code",
      "execution_count": null,
      "id": "b7331ca2-bf96-46a4-8319-6e98f8ebe0f5",
      "metadata": {
        "id": "b7331ca2-bf96-46a4-8319-6e98f8ebe0f5"
      },
      "outputs": [],
      "source": [
        "data_ml = data_ml[~np.isinf(data_ml['purchase_rate'])]"
      ]
    },
    {
      "cell_type": "code",
      "execution_count": null,
      "id": "77cb9d6d-834f-4838-bacb-1e2ff4eca07d",
      "metadata": {
        "id": "77cb9d6d-834f-4838-bacb-1e2ff4eca07d",
        "outputId": "7abbfed8-9d10-4881-b77c-0c3595a39988"
      },
      "outputs": [
        {
          "data": {
            "text/html": [
              "<div>\n",
              "<style scoped>\n",
              "    .dataframe tbody tr th:only-of-type {\n",
              "        vertical-align: middle;\n",
              "    }\n",
              "\n",
              "    .dataframe tbody tr th {\n",
              "        vertical-align: top;\n",
              "    }\n",
              "\n",
              "    .dataframe thead th {\n",
              "        text-align: right;\n",
              "    }\n",
              "</style>\n",
              "<table border=\"1\" class=\"dataframe\">\n",
              "  <thead>\n",
              "    <tr style=\"text-align: right;\">\n",
              "      <th></th>\n",
              "      <th>num_items_viewed</th>\n",
              "      <th>firstview_to_cart</th>\n",
              "      <th>cart_to_transaction</th>\n",
              "      <th>bought_count</th>\n",
              "      <th>view_rate</th>\n",
              "      <th>purchase_rate</th>\n",
              "    </tr>\n",
              "  </thead>\n",
              "  <tbody>\n",
              "    <tr>\n",
              "      <th>0</th>\n",
              "      <td>2</td>\n",
              "      <td>0.270165</td>\n",
              "      <td>0.040662</td>\n",
              "      <td>2</td>\n",
              "      <td>0.500000</td>\n",
              "      <td>0.5</td>\n",
              "    </tr>\n",
              "    <tr>\n",
              "      <th>1</th>\n",
              "      <td>1</td>\n",
              "      <td>NaN</td>\n",
              "      <td>NaN</td>\n",
              "      <td>0</td>\n",
              "      <td>1.000000</td>\n",
              "      <td>0.0</td>\n",
              "    </tr>\n",
              "    <tr>\n",
              "      <th>2</th>\n",
              "      <td>1</td>\n",
              "      <td>NaN</td>\n",
              "      <td>NaN</td>\n",
              "      <td>0</td>\n",
              "      <td>0.333333</td>\n",
              "      <td>0.0</td>\n",
              "    </tr>\n",
              "    <tr>\n",
              "      <th>3</th>\n",
              "      <td>1</td>\n",
              "      <td>NaN</td>\n",
              "      <td>NaN</td>\n",
              "      <td>0</td>\n",
              "      <td>0.500000</td>\n",
              "      <td>0.0</td>\n",
              "    </tr>\n",
              "    <tr>\n",
              "      <th>4</th>\n",
              "      <td>5</td>\n",
              "      <td>NaN</td>\n",
              "      <td>NaN</td>\n",
              "      <td>0</td>\n",
              "      <td>0.714286</td>\n",
              "      <td>0.0</td>\n",
              "    </tr>\n",
              "  </tbody>\n",
              "</table>\n",
              "</div>"
            ],
            "text/plain": [
              "   num_items_viewed  firstview_to_cart  cart_to_transaction  bought_count  \\\n",
              "0                 2           0.270165             0.040662             2   \n",
              "1                 1                NaN                  NaN             0   \n",
              "2                 1                NaN                  NaN             0   \n",
              "3                 1                NaN                  NaN             0   \n",
              "4                 5                NaN                  NaN             0   \n",
              "\n",
              "   view_rate  purchase_rate  \n",
              "0   0.500000            0.5  \n",
              "1   1.000000            0.0  \n",
              "2   0.333333            0.0  \n",
              "3   0.500000            0.0  \n",
              "4   0.714286            0.0  "
            ]
          },
          "execution_count": 39,
          "metadata": {},
          "output_type": "execute_result"
        }
      ],
      "source": [
        "df=data_ml.drop(['visitorid', 'view_count', 'purchased'], axis=1)\n",
        "df=df.drop_duplicates()\n",
        "df = df.reset_index(drop=True)\n",
        "df.head()"
      ]
    },
    {
      "cell_type": "code",
      "execution_count": null,
      "id": "358cd0b1-b2d2-495c-b7e2-93003dd936fa",
      "metadata": {
        "id": "358cd0b1-b2d2-495c-b7e2-93003dd936fa",
        "outputId": "e014e370-32df-48f5-f368-2e9fdca8f44d"
      },
      "outputs": [
        {
          "data": {
            "text/plain": [
              "num_items_viewed         0\n",
              "firstview_to_cart      479\n",
              "cart_to_transaction    479\n",
              "bought_count             0\n",
              "view_rate                0\n",
              "purchase_rate            0\n",
              "dtype: int64"
            ]
          },
          "execution_count": 40,
          "metadata": {},
          "output_type": "execute_result"
        }
      ],
      "source": [
        "df.isnull().sum()"
      ]
    },
    {
      "cell_type": "code",
      "execution_count": null,
      "id": "5d084d5f-f695-4aeb-a772-ab4978ea1747",
      "metadata": {
        "id": "5d084d5f-f695-4aeb-a772-ab4978ea1747"
      },
      "outputs": [],
      "source": [
        "from sklearn.impute import SimpleImputer\n",
        "\n",
        "imputer1=SimpleImputer(missing_values=np.nan, strategy='constant', fill_value=-1000)\n",
        "imputer1.fit(df[['firstview_to_cart']])\n",
        "df['firstview_to_cart'] = imputer1.transform(df[['firstview_to_cart']])\n",
        "\n",
        "imputer2=SimpleImputer(missing_values=np.nan, strategy='constant', fill_value=2000)\n",
        "imputer2.fit(df[['cart_to_transaction']])\n",
        "df['cart_to_transaction'] = imputer2.transform(df[['cart_to_transaction']])\n"
      ]
    },
    {
      "cell_type": "code",
      "execution_count": null,
      "id": "7517e5ec-6bce-435b-b98f-8dabc60bbab5",
      "metadata": {
        "id": "7517e5ec-6bce-435b-b98f-8dabc60bbab5",
        "outputId": "66ed2f71-f15a-41ba-d458-b3f22f265ce8"
      },
      "outputs": [
        {
          "data": {
            "text/plain": [
              "num_items_viewed       0\n",
              "firstview_to_cart      0\n",
              "cart_to_transaction    0\n",
              "bought_count           0\n",
              "view_rate              0\n",
              "purchase_rate          0\n",
              "dtype: int64"
            ]
          },
          "execution_count": 42,
          "metadata": {},
          "output_type": "execute_result"
        }
      ],
      "source": [
        "df.isnull().sum()"
      ]
    },
    {
      "cell_type": "code",
      "execution_count": null,
      "id": "35c4ca68-41cc-47b6-a645-8233cd44c4a7",
      "metadata": {
        "id": "35c4ca68-41cc-47b6-a645-8233cd44c4a7",
        "outputId": "29e544f4-dc89-4973-b801-93f0eb271bd1"
      },
      "outputs": [
        {
          "data": {
            "text/html": [
              "<div>\n",
              "<style scoped>\n",
              "    .dataframe tbody tr th:only-of-type {\n",
              "        vertical-align: middle;\n",
              "    }\n",
              "\n",
              "    .dataframe tbody tr th {\n",
              "        vertical-align: top;\n",
              "    }\n",
              "\n",
              "    .dataframe thead th {\n",
              "        text-align: right;\n",
              "    }\n",
              "</style>\n",
              "<table border=\"1\" class=\"dataframe\">\n",
              "  <thead>\n",
              "    <tr style=\"text-align: right;\">\n",
              "      <th></th>\n",
              "      <th>num_items_viewed</th>\n",
              "      <th>firstview_to_cart</th>\n",
              "      <th>cart_to_transaction</th>\n",
              "      <th>bought_count</th>\n",
              "      <th>view_rate</th>\n",
              "    </tr>\n",
              "  </thead>\n",
              "  <tbody>\n",
              "    <tr>\n",
              "      <th>0</th>\n",
              "      <td>2</td>\n",
              "      <td>0.270165</td>\n",
              "      <td>0.040662</td>\n",
              "      <td>2</td>\n",
              "      <td>0.500000</td>\n",
              "    </tr>\n",
              "    <tr>\n",
              "      <th>1</th>\n",
              "      <td>1</td>\n",
              "      <td>-1000.000000</td>\n",
              "      <td>2000.000000</td>\n",
              "      <td>0</td>\n",
              "      <td>1.000000</td>\n",
              "    </tr>\n",
              "    <tr>\n",
              "      <th>2</th>\n",
              "      <td>1</td>\n",
              "      <td>-1000.000000</td>\n",
              "      <td>2000.000000</td>\n",
              "      <td>0</td>\n",
              "      <td>0.333333</td>\n",
              "    </tr>\n",
              "    <tr>\n",
              "      <th>3</th>\n",
              "      <td>1</td>\n",
              "      <td>-1000.000000</td>\n",
              "      <td>2000.000000</td>\n",
              "      <td>0</td>\n",
              "      <td>0.500000</td>\n",
              "    </tr>\n",
              "    <tr>\n",
              "      <th>4</th>\n",
              "      <td>5</td>\n",
              "      <td>-1000.000000</td>\n",
              "      <td>2000.000000</td>\n",
              "      <td>0</td>\n",
              "      <td>0.714286</td>\n",
              "    </tr>\n",
              "  </tbody>\n",
              "</table>\n",
              "</div>"
            ],
            "text/plain": [
              "   num_items_viewed  firstview_to_cart  cart_to_transaction  bought_count  \\\n",
              "0                 2           0.270165             0.040662             2   \n",
              "1                 1       -1000.000000          2000.000000             0   \n",
              "2                 1       -1000.000000          2000.000000             0   \n",
              "3                 1       -1000.000000          2000.000000             0   \n",
              "4                 5       -1000.000000          2000.000000             0   \n",
              "\n",
              "   view_rate  \n",
              "0   0.500000  \n",
              "1   1.000000  \n",
              "2   0.333333  \n",
              "3   0.500000  \n",
              "4   0.714286  "
            ]
          },
          "execution_count": 43,
          "metadata": {},
          "output_type": "execute_result"
        }
      ],
      "source": [
        "X = df.drop('purchase_rate', axis=1)\n",
        "X.head()"
      ]
    },
    {
      "cell_type": "code",
      "execution_count": null,
      "id": "3737547e-64c6-4223-b2d7-eb1d3832b11f",
      "metadata": {
        "id": "3737547e-64c6-4223-b2d7-eb1d3832b11f"
      },
      "outputs": [],
      "source": [
        "from sklearn.preprocessing import StandardScaler\n",
        "\n",
        "scaler = StandardScaler()\n",
        "scaled_array = scaler.fit_transform(X)\n",
        "scaled_df = pd.DataFrame(scaled_array, columns=X.columns)\n"
      ]
    },
    {
      "cell_type": "code",
      "execution_count": null,
      "id": "80e8a0b6-9dca-42ec-a9f2-700fbbca26a6",
      "metadata": {
        "id": "80e8a0b6-9dca-42ec-a9f2-700fbbca26a6"
      },
      "outputs": [],
      "source": [
        "y=df['purchase_rate']"
      ]
    },
    {
      "cell_type": "code",
      "execution_count": null,
      "id": "0f75b565-f216-44bb-be36-b4bb97c384eb",
      "metadata": {
        "id": "0f75b565-f216-44bb-be36-b4bb97c384eb"
      },
      "outputs": [],
      "source": [
        "from sklearn.model_selection import train_test_split\n",
        "X_train, X_test, y_train, y_test = train_test_split(scaled_df, y, test_size=0.33, random_state=42)"
      ]
    },
    {
      "cell_type": "code",
      "execution_count": null,
      "id": "6f2cb2b7-6165-42ba-a2b0-7af74b255c6f",
      "metadata": {
        "id": "6f2cb2b7-6165-42ba-a2b0-7af74b255c6f"
      },
      "outputs": [],
      "source": [
        "from sklearn.linear_model import LinearRegression\n",
        "from sklearn.preprocessing import PolynomialFeatures\n",
        "from sklearn.ensemble import RandomForestRegressor\n",
        "from xgboost import XGBRegressor, XGBRFRegressor\n",
        "from tensorflow.keras.metrics import MeanAbsoluteError\n",
        "from tensorflow.keras.models import Sequential\n",
        "from tensorflow.keras.layers import Dense\n",
        "from scikeras.wrappers import KerasRegressor\n",
        "from sklearn.model_selection import GridSearchCV\n",
        "from tensorflow.keras.optimizers import Adam\n",
        "from sklearn.metrics import r2_score\n",
        "\n",
        "class Models:\n",
        "    def __init__(self, X_train, X_test, y_train, y_test):\n",
        "        self.X_train = X_train\n",
        "        self.X_test = X_test\n",
        "        self.y_train = y_train\n",
        "        self.y_test = y_test\n",
        "\n",
        "    def linear_reg(self):\n",
        "        model1 = LinearRegression()\n",
        "        model1.fit(self.X_train, self.y_train)\n",
        "        y_pred = model1.predict(self.X_test)\n",
        "        r2 = r2_score(self.y_test, y_pred)\n",
        "        return r2\n",
        "\n",
        "    def poli_reg(self):\n",
        "        degree = 2\n",
        "        poly = PolynomialFeatures(degree=degree)\n",
        "        X_train_reshaped = self.X_train.reshape(-1, 1) if len(self.X_train.shape) == 1 else self.X_train\n",
        "        X_test_reshaped = self.X_test.reshape(-1, 1) if len(self.X_test.shape) == 1 else self.X_test\n",
        "        X_train_poly = poly.fit_transform(X_train_reshaped)\n",
        "        X_test_poly = poly.transform(X_test_reshaped)\n",
        "\n",
        "        model2 = LinearRegression()\n",
        "        model2.fit(X_train_poly, self.y_train)\n",
        "        y_pred = model2.predict(X_test_poly)\n",
        "        r2 = r2_score(self.y_test, y_pred)\n",
        "        return r2\n",
        "\n",
        "    def random_forest(self):\n",
        "        model_rf = RandomForestRegressor()\n",
        "        model_rf.fit(self.X_train, self.y_train)\n",
        "\n",
        "        y_pred = model_rf.predict(self.X_test)\n",
        "        r2 = r2_score(self.y_test, y_pred)\n",
        "        return r2\n",
        "\n",
        "    def xgbrf_reg(self):\n",
        "        model_xgbrf = XGBRFRegressor()\n",
        "        model_xgbrf.fit(self.X_train, self.y_train)\n",
        "\n",
        "        y_pred = model_xgbrf.predict(self.X_test)\n",
        "        r2 = r2_score(self.y_test, y_pred)\n",
        "        return r2\n",
        "\n",
        "    def create_nn_model(self):\n",
        "        input_dim = self.X_train.shape[1]\n",
        "\n",
        "        model = Sequential()\n",
        "        model.add(Dense(10, input_dim=input_dim, activation='relu'))\n",
        "        model.add(Dense(5, activation='relu'))\n",
        "        model.add(Dense(1, activation='linear'))\n",
        "        model.compile(optimizer='adam', loss='mean_squared_error', metrics=[MeanAbsoluteError()])\n",
        "        return model"
      ]
    },
    {
      "cell_type": "code",
      "execution_count": null,
      "id": "bfcbe20c-7879-4ad5-9b07-f8229aac46d4",
      "metadata": {
        "id": "bfcbe20c-7879-4ad5-9b07-f8229aac46d4",
        "outputId": "ce2d34c7-542c-4ae5-86c0-cda611033877"
      },
      "outputs": [
        {
          "name": "stdout",
          "output_type": "stream",
          "text": [
            "0.369512388728084\n"
          ]
        }
      ],
      "source": [
        "my_models = Models(X_train, X_test, y_train, y_test)\n",
        "r2 = my_models.linear_reg()\n",
        "print(r2)"
      ]
    },
    {
      "cell_type": "code",
      "execution_count": null,
      "id": "855c8f94-c371-4078-98f9-258f8b8aa740",
      "metadata": {
        "id": "855c8f94-c371-4078-98f9-258f8b8aa740",
        "outputId": "d7afe278-da91-4538-c6d8-42e184fbea0f"
      },
      "outputs": [
        {
          "name": "stdout",
          "output_type": "stream",
          "text": [
            "0.4299418934183795\n"
          ]
        }
      ],
      "source": [
        "r2_poly = my_models.poli_reg()\n",
        "print(r2_poly)"
      ]
    },
    {
      "cell_type": "code",
      "execution_count": null,
      "id": "0a5e9c9c-19b1-4ca0-b108-2d8b98c9c119",
      "metadata": {
        "id": "0a5e9c9c-19b1-4ca0-b108-2d8b98c9c119",
        "outputId": "c11132b7-1826-4459-8982-27f582914cea"
      },
      "outputs": [
        {
          "name": "stdout",
          "output_type": "stream",
          "text": [
            "0.992892888867796\n"
          ]
        }
      ],
      "source": [
        "r2_rf = my_models.random_forest()\n",
        "print(r2_rf)"
      ]
    },
    {
      "cell_type": "code",
      "execution_count": null,
      "id": "f39dfe37-12e4-43c0-aa4d-0fbfc2ef98e7",
      "metadata": {
        "id": "f39dfe37-12e4-43c0-aa4d-0fbfc2ef98e7",
        "outputId": "71632421-b86b-4561-aca4-5f29ad9c8557"
      },
      "outputs": [
        {
          "name": "stdout",
          "output_type": "stream",
          "text": [
            "0.9694021168821112\n"
          ]
        }
      ],
      "source": [
        "r2_xgb= my_models.xgbrf_reg()\n",
        "print(r2_xgb)"
      ]
    },
    {
      "cell_type": "code",
      "execution_count": null,
      "id": "f951cb26-ae28-47c6-8fe3-9c11160afdfc",
      "metadata": {
        "id": "f951cb26-ae28-47c6-8fe3-9c11160afdfc",
        "outputId": "63c940ba-cd92-49b0-8689-afb049a6b3a3"
      },
      "outputs": [
        {
          "data": {
            "image/png": "[encoded data removed]",
            "text/plain": [
              "<Figure size 640x480 with 1 Axes>"
            ]
          },
          "metadata": {},
          "output_type": "display_data"
        }
      ],
      "source": [
        "history = my_models.create_nn_model().fit(X_train,y_train, epochs=50, batch_size=32, validation_data=(X_test, y_test), verbose=0)\n",
        "\n",
        "loss = history.history['loss']\n",
        "mae = history.history['mean_absolute_error']\n",
        "\n",
        "plt.plot(loss, label='Loss')\n",
        "plt.plot(mae, label='Mean Absolute Error')\n",
        "plt.title('Loss vs. Mean Absolute Error')\n",
        "plt.xlabel('Epochs')\n",
        "plt.ylabel('Value')\n",
        "plt.legend()\n",
        "plt.show()\n",
        "\n"
      ]
    },
    {
      "cell_type": "code",
      "execution_count": null,
      "id": "16b53d32-2a60-43f0-8af6-9d01ccd22c55",
      "metadata": {
        "id": "16b53d32-2a60-43f0-8af6-9d01ccd22c55",
        "outputId": "2dbbe8be-318c-4732-d679-05f744e9286d"
      },
      "outputs": [
        {
          "name": "stdout",
          "output_type": "stream",
          "text": [
            "\u001b[1m106/106\u001b[0m \u001b[32m━━━━━━━━━━━━━━━━━━━━\u001b[0m\u001b[37m\u001b[0m \u001b[1m0s\u001b[0m 1ms/step\n",
            "R-squared (R²): 0.6720486097026722\n"
          ]
        }
      ],
      "source": [
        "model = my_models.create_nn_model()\n",
        "model.fit(X_train, y_train, epochs=10, batch_size=32,verbose=0)\n",
        "\n",
        "y_pred = model.predict(X_test)\n",
        "r2 = r2_score(y_test, y_pred)\n",
        "print(f\"R-squared (R²): {r2}\")"
      ]
    },
    {
      "cell_type": "code",
      "execution_count": null,
      "id": "8ea19cad-b667-439e-9b89-fff0f409d412",
      "metadata": {
        "id": "8ea19cad-b667-439e-9b89-fff0f409d412"
      },
      "outputs": [],
      "source": [
        "from sklearn.model_selection import GridSearchCV\n",
        "\n",
        "def grid_search_nn(models):\n",
        "    param_grid = {\n",
        "        'epochs': [10, 20],\n",
        "        'batch_size': [16, 32],\n",
        "        'optimizer': ['adam', 'sgd'],\n",
        "    }\n",
        "\n",
        "    model = KerasRegressor(model=my_models.create_nn_model(), verbose=0)\n",
        "\n",
        "    grid_search = GridSearchCV(estimator=model, param_grid=param_grid, cv=3, scoring='r2')\n",
        "\n",
        "    grid_search.fit(X_train, y_train)\n",
        "\n",
        "    print(\"Best parameters:\", grid_search.best_params_)\n",
        "    best_model = grid_search.best_estimator_\n",
        "    y_pred = best_model.predict(X_test)\n",
        "    r2 = r2_score(y_test, y_pred)\n",
        "    print(f\"Test R²: {r2}\")\n",
        "\n",
        "    return grid_search.best_estimator_"
      ]
    },
    {
      "cell_type": "code",
      "execution_count": null,
      "id": "d70db94e-dc7e-4beb-bf0d-3e4b258abd42",
      "metadata": {
        "id": "d70db94e-dc7e-4beb-bf0d-3e4b258abd42",
        "outputId": "815a4d4c-70e1-4573-8d09-d4f17cec0d18"
      },
      "outputs": [
        {
          "name": "stdout",
          "output_type": "stream",
          "text": [
            "Best parameters: {'batch_size': 16, 'epochs': 20, 'optimizer': 'sgd'}\n",
            "Test R²: 0.8300466740105831\n"
          ]
        }
      ],
      "source": [
        "best_model = grid_search_nn(my_models.create_nn_model())"
      ]
    },
    {
      "cell_type": "code",
      "execution_count": null,
      "id": "6e3dcf5a-ead5-4173-a9f7-58926dcf42f0",
      "metadata": {
        "id": "6e3dcf5a-ead5-4173-a9f7-58926dcf42f0"
      },
      "outputs": [],
      "source": []
    }
  ],
  "metadata": {
    "kernelspec": {
      "display_name": "Python 3 (ipykernel)",
      "language": "python",
      "name": "python3"
    },
    "language_info": {
      "codemirror_mode": {
        "name": "ipython",
        "version": 3
      },
      "file_extension": ".py",
      "mimetype": "text/x-python",
      "name": "python",
      "nbconvert_exporter": "python",
      "pygments_lexer": "ipython3",
      "version": "3.12.7"
    },
    "colab": {
      "provenance": [],
      "include_colab_link": true
    }
  },
  "nbformat": 4,
  "nbformat_minor": 5
}